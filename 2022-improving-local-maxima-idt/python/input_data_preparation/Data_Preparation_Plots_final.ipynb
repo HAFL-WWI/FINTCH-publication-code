{
 "cells": [
  {
   "cell_type": "code",
   "execution_count": 1,
   "metadata": {},
   "outputs": [],
   "source": [
    "import os\n",
    "import sys\n",
    "import math\n",
    "\n",
    "\n",
    "import fiona\n",
    "\n",
    "import numpy as np\n",
    "import pandas as pd\n",
    "import geopandas as gpd\n",
    "from geopandas.tools import sjoin\n",
    "\n",
    "from shapely.wkt import dumps, loads\n",
    "from shapely.geometry import Point, box"
   ]
  },
  {
   "cell_type": "markdown",
   "metadata": {},
   "source": [
    "## LFI\n",
    "\n",
    "Getting data for the National Forest Inventory (Landes Forst Inventar LFI). There are separate informations about plot centers and individual trees per plot. The information about individual trees is split into an Excel file and a CSV"
   ]
  },
  {
   "cell_type": "code",
   "execution_count": 2,
   "metadata": {},
   "outputs": [],
   "source": [
    "#Reading plot centers from CSV\n",
    "lfi_plot_path = r\".\\Data\\Original_Data\\LFI\\anzahlBaeumeLFI_from_p\\plot_KoordinatenWaldrBestgren_20201019.csv\"\n",
    "\n",
    "lfi_plots = pd.read_csv(lfi_plot_path, delimiter=\";\")"
   ]
  },
  {
   "cell_type": "code",
   "execution_count": 3,
   "metadata": {},
   "outputs": [
    {
     "name": "stderr",
     "output_type": "stream",
     "text": [
      "C:\\ProgramData\\Miniconda3\\envs\\lab\\lib\\site-packages\\pyproj\\crs\\crs.py:131: FutureWarning: '+init=<authority>:<code>' syntax is deprecated. '<authority>:<code>' is the preferred initialization method. When making the change, be mindful of axis order changes: https://pyproj4.github.io/pyproj/stable/gotchas.html#axis-order-changes-in-proj-6\n",
      "  in_crs_string = _prepare_from_proj_string(in_crs_string)\n"
     ]
    }
   ],
   "source": [
    "#Derive geodataframe from CSV data\n",
    "geometry = [Point(xy) for xy in zip(lfi_plots.X, lfi_plots.Y)]\n",
    "lfi_plots = gpd.GeoDataFrame(lfi_plots, crs= {'init': \"epsg:21781\"}, geometry=geometry)\n",
    "#Convert to LV95 and derive common attributes\n",
    "lfi_plots = lfi_plots.to_crs(epsg=2056)\n",
    "lfi_plots[\"x_lv95\"] = lfi_plots.geometry.x\n",
    "lfi_plots[\"y_lv95\"] = lfi_plots.geometry.y\n",
    "lfi_plots[\"plot_area\"] = math.pi*12.62**2"
   ]
  },
  {
   "cell_type": "code",
   "execution_count": 4,
   "metadata": {},
   "outputs": [
    {
     "data": {
      "text/html": [
       "<div>\n",
       "<style scoped>\n",
       "    .dataframe tbody tr th:only-of-type {\n",
       "        vertical-align: middle;\n",
       "    }\n",
       "\n",
       "    .dataframe tbody tr th {\n",
       "        vertical-align: top;\n",
       "    }\n",
       "\n",
       "    .dataframe thead th {\n",
       "        text-align: right;\n",
       "    }\n",
       "</style>\n",
       "<table border=\"1\" class=\"dataframe\">\n",
       "  <thead>\n",
       "    <tr style=\"text-align: right;\">\n",
       "      <th></th>\n",
       "      <th>INVNR</th>\n",
       "      <th>CLNR</th>\n",
       "      <th>X</th>\n",
       "      <th>Y</th>\n",
       "      <th>WALDRAND</th>\n",
       "      <th>BESTANDESGRENZE</th>\n",
       "      <th>ANZ_STEHEND_LEBEND_BAUM_HA</th>\n",
       "      <th>geometry</th>\n",
       "      <th>x_lv95</th>\n",
       "      <th>y_lv95</th>\n",
       "      <th>plot_area</th>\n",
       "    </tr>\n",
       "  </thead>\n",
       "  <tbody>\n",
       "    <tr>\n",
       "      <th>0</th>\n",
       "      <td>450</td>\n",
       "      <td>6</td>\n",
       "      <td>685998.398</td>\n",
       "      <td>295009.246</td>\n",
       "      <td>1</td>\n",
       "      <td>2</td>\n",
       "      <td>115.444455</td>\n",
       "      <td>POINT (2685999.604 1295008.949)</td>\n",
       "      <td>2.686000e+06</td>\n",
       "      <td>1.295009e+06</td>\n",
       "      <td>500.343869</td>\n",
       "    </tr>\n",
       "    <tr>\n",
       "      <th>1</th>\n",
       "      <td>450</td>\n",
       "      <td>22</td>\n",
       "      <td>685021.881</td>\n",
       "      <td>293988.559</td>\n",
       "      <td>0</td>\n",
       "      <td>1</td>\n",
       "      <td>340.000000</td>\n",
       "      <td>POINT (2685023.082 1293988.265)</td>\n",
       "      <td>2.685023e+06</td>\n",
       "      <td>1.293988e+06</td>\n",
       "      <td>500.343869</td>\n",
       "    </tr>\n",
       "    <tr>\n",
       "      <th>2</th>\n",
       "      <td>450</td>\n",
       "      <td>26</td>\n",
       "      <td>686992.655</td>\n",
       "      <td>293997.707</td>\n",
       "      <td>0</td>\n",
       "      <td>2</td>\n",
       "      <td>390.000000</td>\n",
       "      <td>POINT (2686993.855 1293997.405)</td>\n",
       "      <td>2.686994e+06</td>\n",
       "      <td>1.293997e+06</td>\n",
       "      <td>500.343869</td>\n",
       "    </tr>\n",
       "    <tr>\n",
       "      <th>3</th>\n",
       "      <td>450</td>\n",
       "      <td>31</td>\n",
       "      <td>690996.792</td>\n",
       "      <td>293999.263</td>\n",
       "      <td>1</td>\n",
       "      <td>2</td>\n",
       "      <td>470.000000</td>\n",
       "      <td>POINT (2690997.989 1293998.940)</td>\n",
       "      <td>2.690998e+06</td>\n",
       "      <td>1.293999e+06</td>\n",
       "      <td>500.343869</td>\n",
       "    </tr>\n",
       "    <tr>\n",
       "      <th>4</th>\n",
       "      <td>450</td>\n",
       "      <td>47</td>\n",
       "      <td>686002.003</td>\n",
       "      <td>293001.178</td>\n",
       "      <td>0</td>\n",
       "      <td>2</td>\n",
       "      <td>610.000000</td>\n",
       "      <td>POINT (2686003.199 1293000.879)</td>\n",
       "      <td>2.686003e+06</td>\n",
       "      <td>1.293001e+06</td>\n",
       "      <td>500.343869</td>\n",
       "    </tr>\n",
       "  </tbody>\n",
       "</table>\n",
       "</div>"
      ],
      "text/plain": [
       "   INVNR  CLNR           X           Y  WALDRAND  BESTANDESGRENZE  \\\n",
       "0    450     6  685998.398  295009.246         1                2   \n",
       "1    450    22  685021.881  293988.559         0                1   \n",
       "2    450    26  686992.655  293997.707         0                2   \n",
       "3    450    31  690996.792  293999.263         1                2   \n",
       "4    450    47  686002.003  293001.178         0                2   \n",
       "\n",
       "   ANZ_STEHEND_LEBEND_BAUM_HA                         geometry        x_lv95  \\\n",
       "0                  115.444455  POINT (2685999.604 1295008.949)  2.686000e+06   \n",
       "1                  340.000000  POINT (2685023.082 1293988.265)  2.685023e+06   \n",
       "2                  390.000000  POINT (2686993.855 1293997.405)  2.686994e+06   \n",
       "3                  470.000000  POINT (2690997.989 1293998.940)  2.690998e+06   \n",
       "4                  610.000000  POINT (2686003.199 1293000.879)  2.686003e+06   \n",
       "\n",
       "         y_lv95   plot_area  \n",
       "0  1.295009e+06  500.343869  \n",
       "1  1.293988e+06  500.343869  \n",
       "2  1.293997e+06  500.343869  \n",
       "3  1.293999e+06  500.343869  \n",
       "4  1.293001e+06  500.343869  "
      ]
     },
     "execution_count": 4,
     "metadata": {},
     "output_type": "execute_result"
    }
   ],
   "source": [
    "lfi_plots.head()"
   ]
  },
  {
   "cell_type": "code",
   "execution_count": 5,
   "metadata": {},
   "outputs": [],
   "source": [
    "#Reading individual tree data from Excel\n",
    "reference_trees_path = r\".\\Data\\Original_Data\\LFI\\ReferenzBaeume\\Referenzdaten_Baeume_20200312x_mod.xlsx\"\n",
    "\n",
    "lfi_trees = pd.read_excel(reference_trees_path,sheet_name=\"Baumtabelle_Referenz\", engine=\"openpyxl\")"
   ]
  },
  {
   "cell_type": "code",
   "execution_count": 6,
   "metadata": {},
   "outputs": [],
   "source": [
    "#Filtering out only the trees belonging to LFI\n",
    "lfi_trees = lfi_trees[lfi_trees[\"Quelle\"]==4]\n",
    "\n",
    "#Derive basal area per tree\n",
    "lfi_trees[\"bas\"] = lfi_trees[\"DBHcm\"].apply(lambda x: (x/200)**2*math.pi)"
   ]
  },
  {
   "cell_type": "code",
   "execution_count": 7,
   "metadata": {},
   "outputs": [],
   "source": [
    "#Determine total number of trees and basal area per plot\n",
    "lfi_trees[\"nbr_trees\"] = lfi_trees.groupby(\"ID_Flaeche\")[\"ID_Flaeche\"].transform('count')\n",
    "lfi_trees[\"bas_sum\"] = lfi_trees.groupby(\"ID_Flaeche\")[\"bas\"].transform('sum')"
   ]
  },
  {
   "cell_type": "code",
   "execution_count": 8,
   "metadata": {},
   "outputs": [],
   "source": [
    "#Aggregate values per plot\n",
    "lfi_trees_grouped = lfi_trees.groupby(\"ID_Flaeche\").min().reset_index()\n",
    "#lfi_trees_grouped = lfi_trees_grouped[lfi_trees_grouped[\"bas_sum\"]!=0]"
   ]
  },
  {
   "cell_type": "code",
   "execution_count": 9,
   "metadata": {},
   "outputs": [
    {
     "name": "stdout",
     "output_type": "stream",
     "text": [
      "6034\n",
      "6034\n",
      "0\n"
     ]
    }
   ],
   "source": [
    "print(len(lfi_plots))\n",
    "print(len(lfi_plots[np.invert(np.isnan(lfi_plots[\"CLNR\"]))]))\n",
    "print(len(lfi_plots[(np.isnan(lfi_plots[\"CLNR\"]))]))\n"
   ]
  },
  {
   "cell_type": "code",
   "execution_count": 10,
   "metadata": {},
   "outputs": [
    {
     "name": "stdout",
     "output_type": "stream",
     "text": [
      "6034\n",
      "6034\n",
      "6034\n"
     ]
    }
   ],
   "source": [
    "#Merge plot centers and grouped tree information from excel\n",
    "print(len(lfi_plots))\n",
    "lfi_plots = lfi_plots.merge(lfi_trees_grouped[[\"ID_Flaeche\",\"nbr_trees\",\"bas_sum\",\"Aufnahmejahr\"]], left_on=[\"CLNR\"], right_on=[\"ID_Flaeche\"], how=\"left\")\n",
    "print(len(lfi_plots))\n",
    "\n",
    "print(len(lfi_plots[np.invert(np.isnan(lfi_plots[\"CLNR\"]))]))"
   ]
  },
  {
   "cell_type": "code",
   "execution_count": 11,
   "metadata": {},
   "outputs": [],
   "source": [
    "#Read individual tree information with layer attribute from CSV \n",
    "lfi_tree_layer_path = r\".\\Data\\Original_Data\\LFI\\anzahlBaeumeLFI_from_p\\baum_Schicht_20201019.csv\"\n",
    "lfi_tree_layer = pd.read_csv(lfi_tree_layer_path, delimiter=\";\")\n",
    "lfi_tree_layer[\"ID_Baum\"]=lfi_tree_layer[\"BANR\"]"
   ]
  },
  {
   "cell_type": "code",
   "execution_count": 12,
   "metadata": {},
   "outputs": [],
   "source": [
    "#Derive separate number of trees per plot \n",
    "\n",
    "#Upper layer\n",
    "lfi_tree_layer[\"IsOberschichtLFI\"]=lfi_tree_layer[\"SCHICHT\"].apply(lambda x: 1 if x==1 else 0)\n",
    "lfi_tree_layer[\"stems_in_plot_osLFI\"] = lfi_tree_layer.groupby([\"CLNR\"])[\"IsOberschichtLFI\"].transform(\"sum\")\n",
    "\n",
    "#Middle Layer\n",
    "lfi_tree_layer[\"IsMittelschichtLFI\"]=lfi_tree_layer[\"SCHICHT\"].apply(lambda x: 1 if x==2 else 0)\n",
    "lfi_tree_layer[\"stems_in_plot_msLFI\"] = lfi_tree_layer.groupby([\"CLNR\"])[\"IsMittelschichtLFI\"].transform(\"sum\")\n",
    "\n",
    "#Lower Layer\n",
    "lfi_tree_layer[\"IsUnterschichtLFI\"]=lfi_tree_layer[\"SCHICHT\"].apply(lambda x: 1 if x==3 else 0)\n",
    "lfi_tree_layer[\"stems_in_plot_usLFI\"] = lfi_tree_layer.groupby([\"CLNR\"])[\"IsUnterschichtLFI\"].transform(\"sum\")\n",
    "\n",
    "#No Layer\n",
    "lfi_tree_layer[\"IsKeineSchichtLFI\"]=lfi_tree_layer[\"SCHICHT\"].apply(lambda x: 1 if x==4 else 0)\n",
    "lfi_tree_layer[\"stems_in_plot_ksLFI\"] = lfi_tree_layer.groupby([\"CLNR\"])[\"IsKeineSchichtLFI\"].transform(\"sum\")\n",
    "\n",
    "#No value for Layer attribute\n",
    "lfi_tree_layer[\"IsKwSchichtLFI\"]=lfi_tree_layer[\"SCHICHT\"].apply(lambda x: 1 if x==-1 else 0)\n",
    "lfi_tree_layer[\"stems_in_plot_kwsLFI\"] = lfi_tree_layer.groupby([\"CLNR\"])[\"IsKwSchichtLFI\"].transform(\"sum\")\n",
    "\n",
    "#Derive total number of trees per plot\n",
    "lfi_tree_layer[\"stems_in_plot_LFI\"] = lfi_tree_layer.groupby([\"CLNR\"])[\"CLNR\"].transform(\"count\")\n",
    "\n",
    "#Aggregate values per plot\n",
    "lfi_tree_layer_grouped = lfi_tree_layer.groupby(\"CLNR\").aggregate(\"min\").reset_index()"
   ]
  },
  {
   "cell_type": "code",
   "execution_count": 13,
   "metadata": {},
   "outputs": [
    {
     "name": "stdout",
     "output_type": "stream",
     "text": [
      "count    82346.000000\n",
      "mean        17.694703\n",
      "std          7.707497\n",
      "min          1.000000\n",
      "25%         12.000000\n",
      "50%         17.000000\n",
      "75%         22.000000\n",
      "max         56.000000\n",
      "Name: stems_in_plot_LFI, dtype: float64\n",
      "count    82346.000000\n",
      "mean        10.525417\n",
      "std          6.172101\n",
      "min          0.000000\n",
      "25%          6.000000\n",
      "50%         10.000000\n",
      "75%         14.000000\n",
      "max         50.000000\n",
      "Name: stems_in_plot_osLFI, dtype: float64\n"
     ]
    }
   ],
   "source": [
    "print(lfi_tree_layer[\"stems_in_plot_LFI\"].describe())\n",
    "print(lfi_tree_layer[\"stems_in_plot_osLFI\"].describe())"
   ]
  },
  {
   "cell_type": "code",
   "execution_count": 14,
   "metadata": {},
   "outputs": [],
   "source": [
    "#Merge layer information with plot centers\n",
    "lfi_plots = lfi_plots.merge(lfi_tree_layer_grouped[['CLNR', 'stems_in_plot_osLFI', 'stems_in_plot_usLFI', 'stems_in_plot_ksLFI', 'stems_in_plot_kwsLFI', 'stems_in_plot_LFI', 'stems_in_plot_msLFI']], suffixes = (\"\",\"_lfiSchicht\"), left_on=\"CLNR\", right_on=\"CLNR\",how=\"left\")\n"
   ]
  },
  {
   "cell_type": "code",
   "execution_count": 15,
   "metadata": {},
   "outputs": [],
   "source": [
    "#Derive common reference attributes \n",
    "lfi_plots[\"density_actual\"] =  lfi_plots[\"stems_in_plot_osLFI\"]/(lfi_plots[\"plot_area\"]/10000) #!!!!\n",
    "lfi_plots[\"nbr_trees_os\"] = lfi_plots[\"stems_in_plot_osLFI\"]\n",
    "lfi_plots[\"density_actual_all\"] =  lfi_plots[\"ANZ_STEHEND_LEBEND_BAUM_HA\"]\n",
    "lfi_plots[\"bas_per_ha\"] =  lfi_plots[\"bas_sum\"]/(lfi_plots[\"plot_area\"]/10000)\n",
    "\n",
    "lfi_plots[\"density_actual\"]= lfi_plots.apply(lambda x: x[\"density_actual_all\"] if np.isnan(x[\"density_actual\"]) else x[\"density_actual\"],axis=1)"
   ]
  },
  {
   "cell_type": "code",
   "execution_count": 16,
   "metadata": {},
   "outputs": [],
   "source": [
    "#Export plot center data as basis for detection and analysis \n",
    "csv_out_path = r\".\\Data\\reference_plots_lfi_raw.csv\"\n",
    "lfi_plots.to_csv(csv_out_path, sep=\";\", header=True, quotechar='\"', index=False)"
   ]
  },
  {
   "cell_type": "code",
   "execution_count": 17,
   "metadata": {},
   "outputs": [
    {
     "data": {
      "text/plain": [
       "Index(['ID_Baum', 'ID_Flaeche', 'X_LV03', 'Y_LV03', 'X_LV95', 'Y_LV95', 'Z',\n",
       "       'Baumart_LFI', 'DBHcm', 'Hoehe_Gemessen', 'Kluppschwelle',\n",
       "       'SozialeStellung', 'Kronenbreite', 'Kronenlaengenanteil', 'Lebend',\n",
       "       'Quelle', 'MethodeVermessungFlaeche', 'GenauigkeitFlaeche',\n",
       "       'MethodeVermessungBaum', 'GenauigkeitBaum', 'Aufnahmejahr',\n",
       "       'Aufnahmedatum', 'Kontakt', 'bas', 'nbr_trees', 'bas_sum'],\n",
       "      dtype='object')"
      ]
     },
     "execution_count": 17,
     "metadata": {},
     "output_type": "execute_result"
    }
   ],
   "source": [
    "lfi_trees.columns"
   ]
  },
  {
   "cell_type": "code",
   "execution_count": null,
   "metadata": {},
   "outputs": [],
   "source": []
  },
  {
   "cell_type": "code",
   "execution_count": 18,
   "metadata": {},
   "outputs": [],
   "source": [
    "reference_trees_layer_columnsh = r\".\\Data\\Original_Data\\LFI\\AP07__Kalibrieren_der_EBD_Regeln\\LFI_Baeume_Schicht.xlsx\"\n",
    "reference_trees_layer = pd.read_excel(reference_trees_layer_columnsh,sheet_name=\"LFI_Schicht\", engine=\"openpyxl\")"
   ]
  },
  {
   "cell_type": "code",
   "execution_count": 19,
   "metadata": {},
   "outputs": [
    {
     "name": "stderr",
     "output_type": "stream",
     "text": [
      "C:\\ProgramData\\Miniconda3\\envs\\lab\\lib\\site-packages\\pyproj\\crs\\crs.py:131: FutureWarning: '+init=<authority>:<code>' syntax is deprecated. '<authority>:<code>' is the preferred initialization method. When making the change, be mindful of axis order changes: https://pyproj4.github.io/pyproj/stable/gotchas.html#axis-order-changes-in-proj-6\n",
      "  in_crs_string = _prepare_from_proj_string(in_crs_string)\n"
     ]
    }
   ],
   "source": [
    "geometry = [Point(xy) for xy in zip(reference_trees_layer.GPS_X, reference_trees_layer.GPS_Y)]\n",
    "reference_trees_layer = gpd.GeoDataFrame(reference_trees_layer, crs= {'init': \"epsg:21781\"}, geometry=geometry)"
   ]
  },
  {
   "cell_type": "code",
   "execution_count": 20,
   "metadata": {},
   "outputs": [],
   "source": [
    "reference_trees_layer = reference_trees_layer.to_crs(epsg=2056)"
   ]
  },
  {
   "cell_type": "code",
   "execution_count": 21,
   "metadata": {},
   "outputs": [],
   "source": [
    "shp_out_path = r\".\\Data\\reference_trees_layer.shp\"\n",
    "reference_trees_layer.to_file(shp_out_path)"
   ]
  },
  {
   "cell_type": "code",
   "execution_count": null,
   "metadata": {},
   "outputs": [],
   "source": []
  },
  {
   "cell_type": "code",
   "execution_count": null,
   "metadata": {},
   "outputs": [],
   "source": []
  },
  {
   "cell_type": "markdown",
   "metadata": {},
   "source": [
    "## Combine data from different datasources"
   ]
  },
  {
   "cell_type": "code",
   "execution_count": 22,
   "metadata": {},
   "outputs": [
    {
     "name": "stdout",
     "output_type": "stream",
     "text": [
      "6034\n"
     ]
    }
   ],
   "source": [
    "#Select common attributes per data source, rename columns to common scheme, assign ID per source\n",
    "lfi_plots_selection = lfi_plots[[\"CLNR\",\"x_lv95\",\"y_lv95\",\"WALDRAND\",\"BESTANDESGRENZE\",\"nbr_trees\",\"nbr_trees_os\",\"bas_sum\",\"Aufnahmejahr\",\"density_actual\",\"density_actual_all\",\"bas_per_ha\"]].reset_index(drop=True)\n",
    "lfi_plots_selection.rename(columns={\"CLNR\":\"plot_id\", \"bas_sum\":\"bas\", \"Aufnahmejahr\":\"year\",\"WALDRAND\":\"waldrand\",\"BESTANDESGRENZE\":\"bestandesgrenze\"}, inplace=True)\n",
    "lfi_plots_selection[\"source_id\"] = 1\n",
    "print(len(lfi_plots_selection))\n",
    "\n",
    "#Merge data from data sources into one dataframe\n",
    "merged_plots = lfi_plots_selection\n",
    "\n",
    "#Derive geodataframe\n",
    "geometry = [Point(xy) for xy in zip(merged_plots.x_lv95, merged_plots.y_lv95)]\n",
    "merged_plots = gpd.GeoDataFrame(merged_plots, crs= {'init': \"epsg:2056\"}, geometry=geometry)"
   ]
  },
  {
   "cell_type": "code",
   "execution_count": 23,
   "metadata": {},
   "outputs": [],
   "source": [
    "#Read borders for cantons and municipalities \n",
    "kantone_path = r\"P:\\HAFL\\9 Share\\PermanenteOrdner\\Geodaten\\Nationale_Daten\\Nationale_Daten_SWISSTOPO\\SwissBounderies_2013\\BOUNDARIES_2013\\swissBOUNDARIES3D\\SHAPEFILE_LV95_LN02\\swissBOUNDARIES3D_1_1_TLM_KANTONSGEBIET.shp\"\n",
    "gemeinden_path = r\"P:\\HAFL\\9 Share\\PermanenteOrdner\\Geodaten\\Nationale_Daten\\Nationale_Daten_SWISSTOPO\\SwissBounderies_2013\\BOUNDARIES_2013\\swissBOUNDARIES3D\\SHAPEFILE_LV95_LN02\\swissBOUNDARIES3D_1_1_TLM_HOHEITSGEBIET.shp\"\n",
    "\n",
    "kantone = gpd.read_file(kantone_path)\n",
    "gemeinden = gpd.read_file(gemeinden_path)\n"
   ]
  },
  {
   "cell_type": "code",
   "execution_count": 24,
   "metadata": {},
   "outputs": [
    {
     "data": {
      "text/html": [
       "<div>\n",
       "<style scoped>\n",
       "    .dataframe tbody tr th:only-of-type {\n",
       "        vertical-align: middle;\n",
       "    }\n",
       "\n",
       "    .dataframe tbody tr th {\n",
       "        vertical-align: top;\n",
       "    }\n",
       "\n",
       "    .dataframe thead th {\n",
       "        text-align: right;\n",
       "    }\n",
       "</style>\n",
       "<table border=\"1\" class=\"dataframe\">\n",
       "  <thead>\n",
       "    <tr style=\"text-align: right;\">\n",
       "      <th></th>\n",
       "      <th>plot_id</th>\n",
       "      <th>x_lv95</th>\n",
       "      <th>y_lv95</th>\n",
       "      <th>waldrand</th>\n",
       "      <th>bestandesgrenze</th>\n",
       "      <th>nbr_trees</th>\n",
       "      <th>nbr_trees_os</th>\n",
       "      <th>bas</th>\n",
       "      <th>year</th>\n",
       "      <th>density_actual</th>\n",
       "      <th>density_actual_all</th>\n",
       "      <th>bas_per_ha</th>\n",
       "      <th>source_id</th>\n",
       "      <th>geometry</th>\n",
       "    </tr>\n",
       "  </thead>\n",
       "  <tbody>\n",
       "    <tr>\n",
       "      <th>0</th>\n",
       "      <td>6</td>\n",
       "      <td>2.686000e+06</td>\n",
       "      <td>1.295009e+06</td>\n",
       "      <td>1</td>\n",
       "      <td>2</td>\n",
       "      <td>2.0</td>\n",
       "      <td>2.0</td>\n",
       "      <td>0.325233</td>\n",
       "      <td>2015.0</td>\n",
       "      <td>39.972509</td>\n",
       "      <td>115.444455</td>\n",
       "      <td>6.500197</td>\n",
       "      <td>1</td>\n",
       "      <td>POINT (2685999.604 1295008.949)</td>\n",
       "    </tr>\n",
       "    <tr>\n",
       "      <th>1</th>\n",
       "      <td>22</td>\n",
       "      <td>2.685023e+06</td>\n",
       "      <td>1.293988e+06</td>\n",
       "      <td>0</td>\n",
       "      <td>1</td>\n",
       "      <td>12.0</td>\n",
       "      <td>11.0</td>\n",
       "      <td>1.236374</td>\n",
       "      <td>2016.0</td>\n",
       "      <td>219.848802</td>\n",
       "      <td>340.000000</td>\n",
       "      <td>24.710481</td>\n",
       "      <td>1</td>\n",
       "      <td>POINT (2685023.082 1293988.265)</td>\n",
       "    </tr>\n",
       "    <tr>\n",
       "      <th>2</th>\n",
       "      <td>26</td>\n",
       "      <td>2.686994e+06</td>\n",
       "      <td>1.293997e+06</td>\n",
       "      <td>0</td>\n",
       "      <td>2</td>\n",
       "      <td>12.0</td>\n",
       "      <td>11.0</td>\n",
       "      <td>1.031935</td>\n",
       "      <td>2010.0</td>\n",
       "      <td>219.848802</td>\n",
       "      <td>390.000000</td>\n",
       "      <td>20.624509</td>\n",
       "      <td>1</td>\n",
       "      <td>POINT (2686993.855 1293997.405)</td>\n",
       "    </tr>\n",
       "    <tr>\n",
       "      <th>3</th>\n",
       "      <td>31</td>\n",
       "      <td>2.690998e+06</td>\n",
       "      <td>1.293999e+06</td>\n",
       "      <td>1</td>\n",
       "      <td>2</td>\n",
       "      <td>13.0</td>\n",
       "      <td>6.0</td>\n",
       "      <td>1.200389</td>\n",
       "      <td>2016.0</td>\n",
       "      <td>119.917528</td>\n",
       "      <td>470.000000</td>\n",
       "      <td>23.991280</td>\n",
       "      <td>1</td>\n",
       "      <td>POINT (2690997.989 1293998.940)</td>\n",
       "    </tr>\n",
       "    <tr>\n",
       "      <th>4</th>\n",
       "      <td>47</td>\n",
       "      <td>2.686003e+06</td>\n",
       "      <td>1.293001e+06</td>\n",
       "      <td>0</td>\n",
       "      <td>2</td>\n",
       "      <td>17.0</td>\n",
       "      <td>14.0</td>\n",
       "      <td>1.468966</td>\n",
       "      <td>2013.0</td>\n",
       "      <td>279.807566</td>\n",
       "      <td>610.000000</td>\n",
       "      <td>29.359124</td>\n",
       "      <td>1</td>\n",
       "      <td>POINT (2686003.199 1293000.879)</td>\n",
       "    </tr>\n",
       "    <tr>\n",
       "      <th>...</th>\n",
       "      <td>...</td>\n",
       "      <td>...</td>\n",
       "      <td>...</td>\n",
       "      <td>...</td>\n",
       "      <td>...</td>\n",
       "      <td>...</td>\n",
       "      <td>...</td>\n",
       "      <td>...</td>\n",
       "      <td>...</td>\n",
       "      <td>...</td>\n",
       "      <td>...</td>\n",
       "      <td>...</td>\n",
       "      <td>...</td>\n",
       "      <td>...</td>\n",
       "    </tr>\n",
       "    <tr>\n",
       "      <th>6029</th>\n",
       "      <td>164999</td>\n",
       "      <td>2.722027e+06</td>\n",
       "      <td>1.080982e+06</td>\n",
       "      <td>0</td>\n",
       "      <td>2</td>\n",
       "      <td>5.0</td>\n",
       "      <td>5.0</td>\n",
       "      <td>0.109327</td>\n",
       "      <td>2012.0</td>\n",
       "      <td>99.931273</td>\n",
       "      <td>200.000000</td>\n",
       "      <td>2.185046</td>\n",
       "      <td>1</td>\n",
       "      <td>POINT (2722027.054 1080982.070)</td>\n",
       "    </tr>\n",
       "    <tr>\n",
       "      <th>6030</th>\n",
       "      <td>165003</td>\n",
       "      <td>2.723995e+06</td>\n",
       "      <td>1.081007e+06</td>\n",
       "      <td>0</td>\n",
       "      <td>2</td>\n",
       "      <td>11.0</td>\n",
       "      <td>10.0</td>\n",
       "      <td>0.987629</td>\n",
       "      <td>2016.0</td>\n",
       "      <td>199.862547</td>\n",
       "      <td>340.000000</td>\n",
       "      <td>19.738998</td>\n",
       "      <td>1</td>\n",
       "      <td>POINT (2723995.432 1081006.736)</td>\n",
       "    </tr>\n",
       "    <tr>\n",
       "      <th>6031</th>\n",
       "      <td>165118</td>\n",
       "      <td>2.723999e+06</td>\n",
       "      <td>1.079004e+06</td>\n",
       "      <td>1</td>\n",
       "      <td>1</td>\n",
       "      <td>5.0</td>\n",
       "      <td>3.0</td>\n",
       "      <td>0.628319</td>\n",
       "      <td>2017.0</td>\n",
       "      <td>59.958764</td>\n",
       "      <td>282.649791</td>\n",
       "      <td>12.557734</td>\n",
       "      <td>1</td>\n",
       "      <td>POINT (2723998.973 1079004.073)</td>\n",
       "    </tr>\n",
       "    <tr>\n",
       "      <th>6032</th>\n",
       "      <td>165139</td>\n",
       "      <td>2.715001e+06</td>\n",
       "      <td>1.077998e+06</td>\n",
       "      <td>0</td>\n",
       "      <td>2</td>\n",
       "      <td>4.0</td>\n",
       "      <td>1.0</td>\n",
       "      <td>0.122758</td>\n",
       "      <td>2016.0</td>\n",
       "      <td>19.986255</td>\n",
       "      <td>150.000000</td>\n",
       "      <td>2.453467</td>\n",
       "      <td>1</td>\n",
       "      <td>POINT (2715001.103 1077998.348)</td>\n",
       "    </tr>\n",
       "    <tr>\n",
       "      <th>6033</th>\n",
       "      <td>165192</td>\n",
       "      <td>2.722999e+06</td>\n",
       "      <td>1.075986e+06</td>\n",
       "      <td>0</td>\n",
       "      <td>1</td>\n",
       "      <td>17.0</td>\n",
       "      <td>15.0</td>\n",
       "      <td>1.410968</td>\n",
       "      <td>2014.0</td>\n",
       "      <td>299.793820</td>\n",
       "      <td>620.000000</td>\n",
       "      <td>28.199962</td>\n",
       "      <td>1</td>\n",
       "      <td>POINT (2722999.084 1075986.093)</td>\n",
       "    </tr>\n",
       "  </tbody>\n",
       "</table>\n",
       "<p>6034 rows × 14 columns</p>\n",
       "</div>"
      ],
      "text/plain": [
       "      plot_id        x_lv95        y_lv95  waldrand  bestandesgrenze  \\\n",
       "0           6  2.686000e+06  1.295009e+06         1                2   \n",
       "1          22  2.685023e+06  1.293988e+06         0                1   \n",
       "2          26  2.686994e+06  1.293997e+06         0                2   \n",
       "3          31  2.690998e+06  1.293999e+06         1                2   \n",
       "4          47  2.686003e+06  1.293001e+06         0                2   \n",
       "...       ...           ...           ...       ...              ...   \n",
       "6029   164999  2.722027e+06  1.080982e+06         0                2   \n",
       "6030   165003  2.723995e+06  1.081007e+06         0                2   \n",
       "6031   165118  2.723999e+06  1.079004e+06         1                1   \n",
       "6032   165139  2.715001e+06  1.077998e+06         0                2   \n",
       "6033   165192  2.722999e+06  1.075986e+06         0                1   \n",
       "\n",
       "      nbr_trees  nbr_trees_os       bas    year  density_actual  \\\n",
       "0           2.0           2.0  0.325233  2015.0       39.972509   \n",
       "1          12.0          11.0  1.236374  2016.0      219.848802   \n",
       "2          12.0          11.0  1.031935  2010.0      219.848802   \n",
       "3          13.0           6.0  1.200389  2016.0      119.917528   \n",
       "4          17.0          14.0  1.468966  2013.0      279.807566   \n",
       "...         ...           ...       ...     ...             ...   \n",
       "6029        5.0           5.0  0.109327  2012.0       99.931273   \n",
       "6030       11.0          10.0  0.987629  2016.0      199.862547   \n",
       "6031        5.0           3.0  0.628319  2017.0       59.958764   \n",
       "6032        4.0           1.0  0.122758  2016.0       19.986255   \n",
       "6033       17.0          15.0  1.410968  2014.0      299.793820   \n",
       "\n",
       "      density_actual_all  bas_per_ha  source_id  \\\n",
       "0             115.444455    6.500197          1   \n",
       "1             340.000000   24.710481          1   \n",
       "2             390.000000   20.624509          1   \n",
       "3             470.000000   23.991280          1   \n",
       "4             610.000000   29.359124          1   \n",
       "...                  ...         ...        ...   \n",
       "6029          200.000000    2.185046          1   \n",
       "6030          340.000000   19.738998          1   \n",
       "6031          282.649791   12.557734          1   \n",
       "6032          150.000000    2.453467          1   \n",
       "6033          620.000000   28.199962          1   \n",
       "\n",
       "                             geometry  \n",
       "0     POINT (2685999.604 1295008.949)  \n",
       "1     POINT (2685023.082 1293988.265)  \n",
       "2     POINT (2686993.855 1293997.405)  \n",
       "3     POINT (2690997.989 1293998.940)  \n",
       "4     POINT (2686003.199 1293000.879)  \n",
       "...                               ...  \n",
       "6029  POINT (2722027.054 1080982.070)  \n",
       "6030  POINT (2723995.432 1081006.736)  \n",
       "6031  POINT (2723998.973 1079004.073)  \n",
       "6032  POINT (2715001.103 1077998.348)  \n",
       "6033  POINT (2722999.084 1075986.093)  \n",
       "\n",
       "[6034 rows x 14 columns]"
      ]
     },
     "execution_count": 24,
     "metadata": {},
     "output_type": "execute_result"
    }
   ],
   "source": [
    "merged_plots"
   ]
  },
  {
   "cell_type": "code",
   "execution_count": 25,
   "metadata": {},
   "outputs": [],
   "source": [
    "#Merge plot centers with cantons to determine the surrounding canton (important for picking inputs during detection)\n",
    "merged_plots = sjoin(merged_plots, gemeinden[[\"KANTONSNUM\",\"BFS_NUMMER\",\"geometry\"]], how='left')\n",
    "merged_plots = merged_plots.drop(columns=[\"index_right\"])"
   ]
  },
  {
   "cell_type": "code",
   "execution_count": 26,
   "metadata": {},
   "outputs": [],
   "source": [
    "# Add running ID\n",
    "merged_plots = merged_plots.reset_index()\n",
    "merged_plots = merged_plots.rename(columns={\"index\":\"OBJECTID\"})"
   ]
  },
  {
   "cell_type": "code",
   "execution_count": null,
   "metadata": {},
   "outputs": [],
   "source": []
  },
  {
   "cell_type": "code",
   "execution_count": 27,
   "metadata": {},
   "outputs": [],
   "source": [
    "#Read reference data about cantons and detection inputs\n",
    "kantone_info_path = r\".\\Data\\Original_Data\\kantone_info_vhm_schweizweit.csv\"\n",
    "\n",
    "kantone_info = pd.read_csv(kantone_info_path, delimiter=\";\")"
   ]
  },
  {
   "cell_type": "code",
   "execution_count": 28,
   "metadata": {},
   "outputs": [],
   "source": [
    "#Merge detection reference data about ALS acquisition year with plot centers\n",
    "merged_plots = merged_plots.merge(kantone_info[[\"Flaeche_ID\",\"VHM_Year_Min\",\"VHM_Year_Max\"]], left_on=[\"KANTONSNUM\"], right_on=[\"Flaeche_ID\"], how=\"left\")\n"
   ]
  },
  {
   "cell_type": "code",
   "execution_count": 29,
   "metadata": {},
   "outputs": [
    {
     "data": {
      "text/plain": [
       "Index(['OBJECTID', 'plot_id', 'x_lv95', 'y_lv95', 'waldrand',\n",
       "       'bestandesgrenze', 'nbr_trees', 'nbr_trees_os', 'bas', 'year',\n",
       "       'density_actual', 'density_actual_all', 'bas_per_ha', 'source_id',\n",
       "       'geometry', 'KANTONSNUM', 'BFS_NUMMER', 'Flaeche_ID', 'VHM_Year_Min',\n",
       "       'VHM_Year_Max'],\n",
       "      dtype='object')"
      ]
     },
     "execution_count": 29,
     "metadata": {},
     "output_type": "execute_result"
    }
   ],
   "source": [
    "merged_plots.columns"
   ]
  },
  {
   "cell_type": "code",
   "execution_count": 30,
   "metadata": {},
   "outputs": [],
   "source": [
    "#Drop unneeded columns\n",
    "merged_plots = merged_plots.drop(columns=[\"BFS_NUMMER\",\"Flaeche_ID\"])"
   ]
  },
  {
   "cell_type": "code",
   "execution_count": null,
   "metadata": {},
   "outputs": [],
   "source": []
  },
  {
   "cell_type": "code",
   "execution_count": 31,
   "metadata": {},
   "outputs": [],
   "source": [
    "#Read metadata for ALS tiles \n",
    "als_meta_path = r\".\\Data\\reference_plot_als_meta.csv\"\n",
    "\n",
    "als_meta = pd.read_csv(als_meta_path, delimiter=\";\")\n",
    "\n"
   ]
  },
  {
   "cell_type": "code",
   "execution_count": null,
   "metadata": {},
   "outputs": [],
   "source": []
  },
  {
   "cell_type": "code",
   "execution_count": 32,
   "metadata": {},
   "outputs": [],
   "source": [
    "#Merge plot centers with cantons to determine the surrounding canton (important for picking inputs during detection)\n",
    "merged_plots = merged_plots.merge(als_meta[['plot_id', 'source_id', 'file_name']], suffixes = (\"\",\"_als\"), left_on=[\"plot_id\",\"source_id\"], right_on=[\"plot_id\",\"source_id\"],how=\"left\")\n"
   ]
  },
  {
   "cell_type": "code",
   "execution_count": 33,
   "metadata": {},
   "outputs": [
    {
     "data": {
      "text/plain": [
       "array(['2018', '2017', '2020', '2006', '2019', '2001', 'O_xx', '2011',\n",
       "       '2007', '2012', '2014', '2003', '2002', '2013', '2005'],\n",
       "      dtype=object)"
      ]
     },
     "execution_count": 33,
     "metadata": {},
     "output_type": "execute_result"
    }
   ],
   "source": [
    "merged_plots[\"file_name\"].apply(lambda s: s[-21:-17]).unique()"
   ]
  },
  {
   "cell_type": "code",
   "execution_count": 34,
   "metadata": {},
   "outputs": [],
   "source": [
    "merged_plots[\"VHM_Tile_Year\"] = merged_plots.apply(lambda s: int(s[\"file_name\"][-21:-17]) if not (\"xx\" in s[\"file_name\"][-21:-17]) else s[\"VHM_Year_Min\"] ,axis=1)\n",
    "merged_plots = merged_plots.drop(columns=[\"file_name\"])\n"
   ]
  },
  {
   "cell_type": "code",
   "execution_count": 35,
   "metadata": {},
   "outputs": [
    {
     "data": {
      "text/html": [
       "<div>\n",
       "<style scoped>\n",
       "    .dataframe tbody tr th:only-of-type {\n",
       "        vertical-align: middle;\n",
       "    }\n",
       "\n",
       "    .dataframe tbody tr th {\n",
       "        vertical-align: top;\n",
       "    }\n",
       "\n",
       "    .dataframe thead th {\n",
       "        text-align: right;\n",
       "    }\n",
       "</style>\n",
       "<table border=\"1\" class=\"dataframe\">\n",
       "  <thead>\n",
       "    <tr style=\"text-align: right;\">\n",
       "      <th></th>\n",
       "      <th>OBJECTID</th>\n",
       "      <th>plot_id</th>\n",
       "      <th>x_lv95</th>\n",
       "      <th>y_lv95</th>\n",
       "      <th>waldrand</th>\n",
       "      <th>bestandesgrenze</th>\n",
       "      <th>nbr_trees</th>\n",
       "      <th>nbr_trees_os</th>\n",
       "      <th>bas</th>\n",
       "      <th>year</th>\n",
       "      <th>density_actual</th>\n",
       "      <th>density_actual_all</th>\n",
       "      <th>bas_per_ha</th>\n",
       "      <th>source_id</th>\n",
       "      <th>geometry</th>\n",
       "      <th>KANTONSNUM</th>\n",
       "      <th>VHM_Year_Min</th>\n",
       "      <th>VHM_Year_Max</th>\n",
       "      <th>VHM_Tile_Year</th>\n",
       "    </tr>\n",
       "  </thead>\n",
       "  <tbody>\n",
       "    <tr>\n",
       "      <th>0</th>\n",
       "      <td>0</td>\n",
       "      <td>6</td>\n",
       "      <td>2.686000e+06</td>\n",
       "      <td>1.295009e+06</td>\n",
       "      <td>1</td>\n",
       "      <td>2</td>\n",
       "      <td>2.0</td>\n",
       "      <td>2.0</td>\n",
       "      <td>0.325233</td>\n",
       "      <td>2015.0</td>\n",
       "      <td>39.972509</td>\n",
       "      <td>115.444455</td>\n",
       "      <td>6.500197</td>\n",
       "      <td>1</td>\n",
       "      <td>POINT (2685999.604 1295008.949)</td>\n",
       "      <td>14.0</td>\n",
       "      <td>2018</td>\n",
       "      <td>2018</td>\n",
       "      <td>2018</td>\n",
       "    </tr>\n",
       "    <tr>\n",
       "      <th>1</th>\n",
       "      <td>1</td>\n",
       "      <td>22</td>\n",
       "      <td>2.685023e+06</td>\n",
       "      <td>1.293988e+06</td>\n",
       "      <td>0</td>\n",
       "      <td>1</td>\n",
       "      <td>12.0</td>\n",
       "      <td>11.0</td>\n",
       "      <td>1.236374</td>\n",
       "      <td>2016.0</td>\n",
       "      <td>219.848802</td>\n",
       "      <td>340.000000</td>\n",
       "      <td>24.710481</td>\n",
       "      <td>1</td>\n",
       "      <td>POINT (2685023.082 1293988.265)</td>\n",
       "      <td>14.0</td>\n",
       "      <td>2018</td>\n",
       "      <td>2018</td>\n",
       "      <td>2018</td>\n",
       "    </tr>\n",
       "    <tr>\n",
       "      <th>2</th>\n",
       "      <td>2</td>\n",
       "      <td>26</td>\n",
       "      <td>2.686994e+06</td>\n",
       "      <td>1.293997e+06</td>\n",
       "      <td>0</td>\n",
       "      <td>2</td>\n",
       "      <td>12.0</td>\n",
       "      <td>11.0</td>\n",
       "      <td>1.031935</td>\n",
       "      <td>2010.0</td>\n",
       "      <td>219.848802</td>\n",
       "      <td>390.000000</td>\n",
       "      <td>20.624509</td>\n",
       "      <td>1</td>\n",
       "      <td>POINT (2686993.855 1293997.405)</td>\n",
       "      <td>14.0</td>\n",
       "      <td>2018</td>\n",
       "      <td>2018</td>\n",
       "      <td>2018</td>\n",
       "    </tr>\n",
       "    <tr>\n",
       "      <th>3</th>\n",
       "      <td>3</td>\n",
       "      <td>31</td>\n",
       "      <td>2.690998e+06</td>\n",
       "      <td>1.293999e+06</td>\n",
       "      <td>1</td>\n",
       "      <td>2</td>\n",
       "      <td>13.0</td>\n",
       "      <td>6.0</td>\n",
       "      <td>1.200389</td>\n",
       "      <td>2016.0</td>\n",
       "      <td>119.917528</td>\n",
       "      <td>470.000000</td>\n",
       "      <td>23.991280</td>\n",
       "      <td>1</td>\n",
       "      <td>POINT (2690997.989 1293998.940)</td>\n",
       "      <td>14.0</td>\n",
       "      <td>2018</td>\n",
       "      <td>2018</td>\n",
       "      <td>2018</td>\n",
       "    </tr>\n",
       "    <tr>\n",
       "      <th>4</th>\n",
       "      <td>4</td>\n",
       "      <td>47</td>\n",
       "      <td>2.686003e+06</td>\n",
       "      <td>1.293001e+06</td>\n",
       "      <td>0</td>\n",
       "      <td>2</td>\n",
       "      <td>17.0</td>\n",
       "      <td>14.0</td>\n",
       "      <td>1.468966</td>\n",
       "      <td>2013.0</td>\n",
       "      <td>279.807566</td>\n",
       "      <td>610.000000</td>\n",
       "      <td>29.359124</td>\n",
       "      <td>1</td>\n",
       "      <td>POINT (2686003.199 1293000.879)</td>\n",
       "      <td>14.0</td>\n",
       "      <td>2018</td>\n",
       "      <td>2018</td>\n",
       "      <td>2018</td>\n",
       "    </tr>\n",
       "  </tbody>\n",
       "</table>\n",
       "</div>"
      ],
      "text/plain": [
       "   OBJECTID  plot_id        x_lv95        y_lv95  waldrand  bestandesgrenze  \\\n",
       "0         0        6  2.686000e+06  1.295009e+06         1                2   \n",
       "1         1       22  2.685023e+06  1.293988e+06         0                1   \n",
       "2         2       26  2.686994e+06  1.293997e+06         0                2   \n",
       "3         3       31  2.690998e+06  1.293999e+06         1                2   \n",
       "4         4       47  2.686003e+06  1.293001e+06         0                2   \n",
       "\n",
       "   nbr_trees  nbr_trees_os       bas    year  density_actual  \\\n",
       "0        2.0           2.0  0.325233  2015.0       39.972509   \n",
       "1       12.0          11.0  1.236374  2016.0      219.848802   \n",
       "2       12.0          11.0  1.031935  2010.0      219.848802   \n",
       "3       13.0           6.0  1.200389  2016.0      119.917528   \n",
       "4       17.0          14.0  1.468966  2013.0      279.807566   \n",
       "\n",
       "   density_actual_all  bas_per_ha  source_id                         geometry  \\\n",
       "0          115.444455    6.500197          1  POINT (2685999.604 1295008.949)   \n",
       "1          340.000000   24.710481          1  POINT (2685023.082 1293988.265)   \n",
       "2          390.000000   20.624509          1  POINT (2686993.855 1293997.405)   \n",
       "3          470.000000   23.991280          1  POINT (2690997.989 1293998.940)   \n",
       "4          610.000000   29.359124          1  POINT (2686003.199 1293000.879)   \n",
       "\n",
       "   KANTONSNUM  VHM_Year_Min  VHM_Year_Max  VHM_Tile_Year  \n",
       "0        14.0          2018          2018           2018  \n",
       "1        14.0          2018          2018           2018  \n",
       "2        14.0          2018          2018           2018  \n",
       "3        14.0          2018          2018           2018  \n",
       "4        14.0          2018          2018           2018  "
      ]
     },
     "execution_count": 35,
     "metadata": {},
     "output_type": "execute_result"
    }
   ],
   "source": [
    "merged_plots.head()"
   ]
  },
  {
   "cell_type": "code",
   "execution_count": 36,
   "metadata": {},
   "outputs": [
    {
     "name": "stderr",
     "output_type": "stream",
     "text": [
      "C:\\Users\\admin\\AppData\\Local\\Temp/ipykernel_22252/2867745002.py:5: UserWarning: Column names longer than 10 characters will be truncated when saved to ESRI Shapefile.\n",
      "  merged_plots.to_file(shp_out_path)\n"
     ]
    }
   ],
   "source": [
    "#Export plot center data as basis for detection and analysis \n",
    "csv_out_path = r\".\\Data\\reference_plots.csv\"\n",
    "merged_plots.to_csv(csv_out_path, sep=\";\", header=True, quotechar='\"', index=False)\n",
    "shp_out_path = r\".\\Data\\reference_plots.shp\"\n",
    "merged_plots.to_file(shp_out_path)"
   ]
  },
  {
   "cell_type": "code",
   "execution_count": null,
   "metadata": {},
   "outputs": [],
   "source": []
  }
 ],
 "metadata": {
  "kernelspec": {
   "display_name": "Python 3 (ipykernel)",
   "language": "python",
   "name": "python3"
  },
  "language_info": {
   "codemirror_mode": {
    "name": "ipython",
    "version": 3
   },
   "file_extension": ".py",
   "mimetype": "text/x-python",
   "name": "python",
   "nbconvert_exporter": "python",
   "pygments_lexer": "ipython3",
   "version": "3.9.7"
  }
 },
 "nbformat": 4,
 "nbformat_minor": 4
}
