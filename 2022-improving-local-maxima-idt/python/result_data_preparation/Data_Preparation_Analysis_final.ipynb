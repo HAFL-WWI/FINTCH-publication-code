{
 "cells": [
  {
   "cell_type": "markdown",
   "metadata": {},
   "source": [
    "## Configurations"
   ]
  },
  {
   "cell_type": "raw",
   "metadata": {},
   "source": [
    "#Avoiding problems with long response times for auto-complete in latest Jupyter Lab installs\n",
    "#ONLY EXECUTE ON FIRST RUN AFTER STARTING THE KERNEL!\n",
    "%config Completer.use_jedi = False"
   ]
  },
  {
   "cell_type": "code",
   "execution_count": 1,
   "metadata": {},
   "outputs": [],
   "source": [
    "#Needed Imports\n",
    "import psycopg2\n",
    "\n",
    "%matplotlib inline\n",
    "import os\n",
    "import sys\n",
    "import configparser\n",
    "import numpy as np\n",
    "import pandas as pd\n",
    "\n",
    "import math\n",
    "\n",
    "import pandas as pd\n",
    "from geopandas import gpd\n",
    "from geopandas import GeoDataFrame\n",
    "from shapely.geometry import Point, MultiPoint, Polygon, MultiPolygon, GeometryCollection, box\n"
   ]
  },
  {
   "cell_type": "code",
   "execution_count": 2,
   "metadata": {},
   "outputs": [],
   "source": [
    "#Setting basic configurations\n",
    "\n",
    "#The config file especially contains the access information for the DB server used to store detection results\n",
    "path_to_config_file = r\"C:\\school\\Diss\\FINT_CH\\Config\"\n",
    "ini_config_file = os.path.join(path_to_config_file, \"FINTCH_config.ini\")\n",
    "\n",
    "cfg = configparser.ConfigParser()\n",
    "cfg._interpolation = configparser.ExtendedInterpolation()\n",
    "cfg.read(ini_config_file)\n",
    "\n",
    "kantonsliste_path = r\"C:\\school\\Diss\\FINT_CH\\Data\\Original_Data\\kantone_info.csv\"\n",
    "\n",
    "epsg = \"2056\" #LV95/CH1903+\n",
    "crs = {'init': \"epsg:\"+epsg} #http://www.spatialreference.org/ref/epsg/2056/\n"
   ]
  },
  {
   "cell_type": "markdown",
   "metadata": {},
   "source": [
    "## Data Acquisition"
   ]
  },
  {
   "cell_type": "code",
   "execution_count": 3,
   "metadata": {},
   "outputs": [
    {
     "data": {
      "text/plain": [
       "5915"
      ]
     },
     "execution_count": 3,
     "metadata": {},
     "output_type": "execute_result"
    }
   ],
   "source": [
    "#Creating DB connection\n",
    "con = psycopg2.connect(host=cfg.get(\"AP07__db\",\"host\"), dbname=cfg.get(\"AP07__db\",\"dbname\"), user=cfg.get(\"AP07__db\",\"user\"), password=cfg.get(\"AP07__db\",\"password\"))\n",
    "\n",
    "#Reading detected trees with information on plots\n",
    "\n",
    "sql_trees = \"\"\"\n",
    "SELECT\n",
    "    perimeter_id, flaeche_id,\n",
    "    SUM(tree_ps1) AS stems_in_plot_ps1,\n",
    "    SUM(tree_ps2) AS stems_in_plot_ps2,\n",
    "    SUM(tree_ps3) AS stems_in_plot_ps3,\n",
    "    SUM(tree_ps4) AS stems_in_plot_ps4,\n",
    "    SUM(tree_ps5) AS stems_in_plot_ps5,\n",
    "    SUM(tree_ps6) AS stems_in_plot_ps6,\n",
    "    SUM(tree_ps7) AS stems_in_plot_ps7,\n",
    "    SUM(tree_ps8) AS stems_in_plot_ps8,\n",
    "    SUM(tree_ps9) AS stems_in_plot_ps9,\n",
    "    SUM(tree_ps10) AS stems_in_plot_ps10,\n",
    "    SUM(tree_ps11) AS stems_in_plot_ps11,\n",
    "    SUM(tree_ps12) AS stems_in_plot_ps12,\n",
    "    SUM(tree_ps13) AS stems_in_plot_ps13,\n",
    "    SUM(tree_ps14) AS stems_in_plot_ps14,\n",
    "    SUM(tree_ps15) AS stems_in_plot_ps15,\n",
    "    SUM(tree_ps16) AS stems_in_plot_ps16,\n",
    "    SUM(tree_ps17) AS stems_in_plot_ps17,\n",
    "    SUM(tree_ps18) AS stems_in_plot_ps18,\n",
    "    SUM(tree_ps19) AS stems_in_plot_ps19,\n",
    "    SUM(tree_ps1*bas) AS bas_detected_ps1,\n",
    "    SUM(tree_ps2*bas) AS bas_detected_ps2,\n",
    "    SUM(tree_ps3*bas) AS bas_detected_ps3,\n",
    "    SUM(tree_ps4*bas) AS bas_detected_ps4,\n",
    "    SUM(tree_ps5*bas) AS bas_detected_ps5,\n",
    "    SUM(tree_ps6*bas) AS bas_detected_ps6,\n",
    "    SUM(tree_ps7*bas) AS bas_detected_ps7,\n",
    "    SUM(tree_ps8*bas) AS bas_detected_ps8,\n",
    "    SUM(tree_ps9*bas) AS bas_detected_ps9,\n",
    "    SUM(tree_ps10*bas) AS bas_detected_ps10, \n",
    "    SUM(tree_ps11*bas) AS bas_detected_ps11, \n",
    "    SUM(tree_ps12*bas) AS bas_detected_ps12, \n",
    "    SUM(tree_ps13*bas) AS bas_detected_ps13, \n",
    "    SUM(tree_ps14*bas) AS bas_detected_ps14, \n",
    "    SUM(tree_ps15*bas) AS bas_detected_ps15, \n",
    "    SUM(tree_ps16*bas) AS bas_detected_ps16, \n",
    "    SUM(tree_ps17*bas) AS bas_detected_ps17, \n",
    "    SUM(tree_ps18*bas) AS bas_detected_ps18, \n",
    "    SUM(tree_ps19*bas) AS bas_detected_ps19, \n",
    "    MIN(prtid) AS prtid, MIN(plot_area) AS plot_area ,\n",
    "    MIN(source_id) AS source_id,\n",
    "    MIN(slope) AS slope,\n",
    "    MIN(slope_sin) AS slope_sin,\n",
    "    MIN(slope_class) AS slope_class,\n",
    "    MIN(aspect) AS aspect,\n",
    "    MIN(aspect_sin) AS aspect_sin,\n",
    "    MIN(aspect_cos) AS aspect_cos,\n",
    "    MIN(aspect_class) AS aspect_class,\n",
    "    MIN(northness) AS northness,\n",
    "    MIN(eastness) AS eastness,\n",
    "    MIN(veg_code) AS veg_code,\n",
    "    MIN(z) AS z,\n",
    "    MIN(veg_subcode) AS veg_subcode,\n",
    "    MIN(veg_de) AS veg_de,\n",
    "    MIN(hdom) AS hdom,\n",
    "    MIN(dg) AS dg,\n",
    "    MIN(nh) AS nh,\n",
    "    MIN(fst) AS fst,\n",
    "    MIN(hdom50) AS hdom50, MIN(dg50) AS dg50, MIN(nh50) AS nh50, MIN(fst50) AS fst50, MIN(dg_ks) AS dg_ks,MIN(dg_us) AS dg_us,MIN(dg_ms) AS dg_ms,MIN(dg_os) AS dg_os,MIN(dg_ueb) AS dg_ueb,MIN(dg_ks50) AS dg_ks50,MIN(dg_us50) AS dg_us50,MIN(dg_ms50) AS dg_ms50,MIN(dg_os50) AS dg_os50,MIN(dg_ueb50) AS dg_ueb50, \n",
    "    radius,\n",
    "    MIN(geom) AS geom\n",
    "  FROM\n",
    "    (SELECT ft.gid, ft.x, ft.y, ft.hoehe, ft.dominanz, ft.bhd, ft.geom,\n",
    "          ft.parameterset_id, ft.perimeter_id, ft.flaeche_id,\n",
    "              CASE WHEN ft.parameterset_id = 2 THEN 1 ELSE 0 END AS Tree_ps1,\n",
    "              CASE WHEN ft.parameterset_id = 2 THEN 1 ELSE 0 END AS Tree_ps2,\n",
    "              CASE WHEN ft.parameterset_id = 3 THEN 1 ELSE 0 END AS Tree_ps3,\n",
    "              CASE WHEN ft.parameterset_id = 4 THEN 1 ELSE 0 END AS Tree_ps4,\n",
    "              CASE WHEN ft.parameterset_id = 5 THEN 1 ELSE 0 END AS Tree_ps5,\n",
    "              CASE WHEN ft.parameterset_id = 6 THEN 1 ELSE 0 END AS Tree_ps6,\n",
    "              CASE WHEN ft.parameterset_id = 7 THEN 1 ELSE 0 END AS Tree_ps7,\n",
    "              CASE WHEN ft.parameterset_id = 8 THEN 1 ELSE 0 END AS Tree_ps8,\n",
    "              CASE WHEN ft.parameterset_id = 9 THEN 1 ELSE 0 END AS Tree_ps9,\n",
    "              CASE WHEN ft.parameterset_id = 10 THEN 1 ELSE 0 END AS Tree_ps10,\n",
    "              CASE WHEN ft.parameterset_id = 11 THEN 1 ELSE 0 END AS Tree_ps11,\n",
    "              CASE WHEN ft.parameterset_id = 12 THEN 1 ELSE 0 END AS Tree_ps12,\n",
    "              CASE WHEN ft.parameterset_id = 13 THEN 1 ELSE 0 END AS Tree_ps13,\n",
    "              CASE WHEN ft.parameterset_id = 14 THEN 1 ELSE 0 END AS Tree_ps14,\n",
    "              CASE WHEN ft.parameterset_id = 15 THEN 1 ELSE 0 END AS Tree_ps15,\n",
    "              CASE WHEN ft.parameterset_id = 16 THEN 1 ELSE 0 END AS Tree_ps16,\n",
    "              CASE WHEN ft.parameterset_id = 17 THEN 1 ELSE 0 END AS Tree_ps17,\n",
    "              CASE WHEN ft.parameterset_id = 18 THEN 1 ELSE 0 END AS Tree_ps18,\n",
    "              CASE WHEN ft.parameterset_id = 19 THEN 1 ELSE 0 END AS Tree_ps19,\n",
    "              (ft.bhd/200)^2*pi() AS bas,\n",
    "          p.gid AS prtid, (12.62)^2*pi() AS plot_area, p.source_id,\n",
    "          p.slope, p.slope_sin, p.slope_class, p.aspect, p.aspect_sin, p.aspect_cos, p.aspect_class, p.northness, p.eastness, p.z, p.veg_code, p.veg_subcode, p.veg_de, p.hdom, p.dg, p.nh, p.fst, radius,\n",
    "          p.hdom50, p.dg50, p.nh50, p.fst50, p.dg_ks,p.dg_us,p.dg_ms,p.dg_os,p.dg_ueb,p.dg_ks50,p.dg_us50,p.dg_ms50,p.dg_os50,p.dg_ueb50\n",
    "        FROM fintch.diss_tree_detected AS ft\n",
    "        LEFT JOIN fintch.diss_perimeter AS p ON ft.perimeter_id = p.perimeter_id AND ft.flaeche_id = p.flaeche_id\n",
    "         CROSS JOIN (SELECT *\n",
    "         --FROM json_to_recordset('[{\"radius\":-5},{\"radius\":-4},{\"radius\":-3},{\"radius\":-2},{\"radius\":-1},{\"radius\":0},{\"radius\":1},{\"radius\":2},{\"radius\":3},{\"radius\":4},{\"radius\":5},{\"radius\":6},{\"radius\":7}]')\n",
    "         --FROM json_to_recordset('[{\"radius\":-2},{\"radius\":-1},{\"radius\":0},{\"radius\":1},{\"radius\":2}]')\n",
    "         FROM json_to_recordset('[{\"radius\":0}]')\n",
    "\n",
    "        AS x(\"radius\" int)) AS rad\n",
    "        WHERE p.source_id IN (1)--2:GR1  ,3,4,5\n",
    "        --AND ft.parameterset_id IN ()\n",
    "        AND ST_Intersects(ft.geom,ST_Buffer(ST_Centroid(p.geom),(12.62+radius)))\n",
    "     ) AS t\n",
    "\n",
    "    GROUP BY  perimeter_id, flaeche_id, radius\n",
    "            ;\n",
    "\"\"\"\n",
    "\n",
    "fint_trees_db = gpd.GeoDataFrame.from_postgis(sql_trees, con, geom_col='geom' )\n",
    "len(fint_trees_db)"
   ]
  },
  {
   "cell_type": "code",
   "execution_count": 4,
   "metadata": {},
   "outputs": [],
   "source": [
    "#Creating DB connection\n",
    "con = psycopg2.connect(host=cfg.get(\"AP07__db\",\"host\"), dbname=cfg.get(\"AP07__db\",\"dbname\"), user=cfg.get(\"AP07__db\",\"user\"), password=cfg.get(\"AP07__db\",\"password\"))\n",
    "\n",
    "sql_method_combinations = \"\"\"SELECT id, size, combination, rmse, dr, dr_delta\n",
    "FROM fintch.diss_method_combinations;\"\"\"\n",
    "    \n",
    "    \n",
    "method_combinations_db = pd.read_sql_query(sql_method_combinations, con)\n",
    "len(method_combinations_db)\n",
    "\n",
    "csv_out_path = r\"C:\\school\\Diss\\FINT_CH\\Data\\method_combinations_lfi.csv\"\n",
    "method_combinations_db.to_csv(csv_out_path, sep=\";\", header=True, quotechar='\"', index=False)\n"
   ]
  },
  {
   "cell_type": "code",
   "execution_count": 5,
   "metadata": {},
   "outputs": [
    {
     "data": {
      "text/plain": [
       "20659"
      ]
     },
     "execution_count": 5,
     "metadata": {},
     "output_type": "execute_result"
    }
   ],
   "source": [
    "#Reading plot information only\n",
    "sql_envelopes = \"\"\"\n",
    "SELECT gid, geom, slope, slope_sin, slope_class, aspect, aspect_sin, aspect_cos, aspect_class, northness, eastness, z,  veg_code, veg_subcode, veg_de, hdom, dg, nh, fst, perimeter_id, source_id, flaeche_id\n",
    "    FROM fintch.diss_perimeter;\n",
    "\"\"\"\n",
    "    \n",
    "fint_envelopes_db = gpd.GeoDataFrame.from_postgis(sql_envelopes, con, geom_col='geom' )\n",
    "len(fint_envelopes_db)    "
   ]
  },
  {
   "cell_type": "code",
   "execution_count": 6,
   "metadata": {},
   "outputs": [],
   "source": [
    "#Read list with infos about cantons\n",
    "kantonsliste_df = pd.read_csv(kantonsliste_path, delimiter=\";\")"
   ]
  },
  {
   "cell_type": "code",
   "execution_count": 7,
   "metadata": {},
   "outputs": [],
   "source": [
    "#Labels for the detection method entries\n",
    "parameterset_lookup_label_dict = {\n",
    " 1: '1m',\n",
    " 2: '1.5m',\n",
    " 3: '2m',\n",
    " 4: '1m, sigma 1, size 3',\n",
    " 5: '1m, sigma 1, size 5',\n",
    " 6: '1m, sigma 1, size 7',\n",
    " 7: '1m, sigma 2, size 3',\n",
    " 8: '1m, sigma 2, size 5',\n",
    " 9: '1m, sigma 2, size 7',\n",
    " 10: '1m, sigma 3, size 3',\n",
    " 11: '1m, sigma 3, size 5',\n",
    " 12: '1m, sigma 3, size 7',\n",
    " 13: '1.5m, sigma 2, size 3',\n",
    " 14: '1.5m, sigma 2, size 5',\n",
    " 15: '1.5m, sigma 2, size 7',\n",
    " 16: 'combined 1m/1.5m/1m, sig2, r3',\n",
    " 17: 'combined 1m/2m/1m, sig2, r5',\n",
    " 18: 'combined 1m/1.5m/1m, sig1, r3/1m, sig2, r3',\n",
    " 19: 'combined 1m/1.5m/1m, sig1, r3/1m, sig2, r3/1m, sig3, r3',\n",
    "} \n",
    "\n"
   ]
  },
  {
   "cell_type": "code",
   "execution_count": 8,
   "metadata": {},
   "outputs": [],
   "source": [
    "#Labels for the reference data sources\n",
    "source_label_dict = {\"source_id\": [1,2,3,4,5], \"source_label\": [\"LFI4\", \"GR1 1996-2009\", \"GR2 2010-2019 \", \"FL\", \"BL\"]}\n",
    "source_label_df = pd.DataFrame(source_label_dict)"
   ]
  },
  {
   "cell_type": "code",
   "execution_count": 9,
   "metadata": {},
   "outputs": [],
   "source": [
    "#reading aggregated reference data for the plots\n",
    "plot_ref_csv_path = r\".\\Data\\reference_plots.csv\"\n",
    "plot_ref_csv_path = r\".\\Data\\reference_plots_lfi_only.csv\"\n",
    "plot_ref_df =  pd.read_csv(plot_ref_csv_path, delimiter=\";\")\n"
   ]
  },
  {
   "cell_type": "markdown",
   "metadata": {},
   "source": [
    "## Data Preparation"
   ]
  },
  {
   "cell_type": "code",
   "execution_count": 10,
   "metadata": {},
   "outputs": [
    {
     "data": {
      "text/plain": [
       "Index(['perimeter_id', 'flaeche_id', 'stems_in_plot_ps1', 'stems_in_plot_ps2',\n",
       "       'stems_in_plot_ps3', 'stems_in_plot_ps4', 'stems_in_plot_ps5',\n",
       "       'stems_in_plot_ps6', 'stems_in_plot_ps7', 'stems_in_plot_ps8',\n",
       "       'stems_in_plot_ps9', 'stems_in_plot_ps10', 'stems_in_plot_ps11',\n",
       "       'stems_in_plot_ps12', 'stems_in_plot_ps13', 'stems_in_plot_ps14',\n",
       "       'stems_in_plot_ps15', 'stems_in_plot_ps16', 'stems_in_plot_ps17',\n",
       "       'stems_in_plot_ps18', 'stems_in_plot_ps19', 'bas_detected_ps1',\n",
       "       'bas_detected_ps2', 'bas_detected_ps3', 'bas_detected_ps4',\n",
       "       'bas_detected_ps5', 'bas_detected_ps6', 'bas_detected_ps7',\n",
       "       'bas_detected_ps8', 'bas_detected_ps9', 'bas_detected_ps10',\n",
       "       'bas_detected_ps11', 'bas_detected_ps12', 'bas_detected_ps13',\n",
       "       'bas_detected_ps14', 'bas_detected_ps15', 'bas_detected_ps16',\n",
       "       'bas_detected_ps17', 'bas_detected_ps18', 'bas_detected_ps19', 'prtid',\n",
       "       'plot_area', 'source_id', 'slope', 'slope_sin', 'slope_class', 'aspect',\n",
       "       'aspect_sin', 'aspect_cos', 'aspect_class', 'northness', 'eastness',\n",
       "       'veg_code', 'z', 'veg_subcode', 'veg_de', 'hdom', 'dg', 'nh', 'fst',\n",
       "       'hdom50', 'dg50', 'nh50', 'fst50', 'dg_ks', 'dg_us', 'dg_ms', 'dg_os',\n",
       "       'dg_ueb', 'dg_ks50', 'dg_us50', 'dg_ms50', 'dg_os50', 'dg_ueb50',\n",
       "       'radius', 'geom'],\n",
       "      dtype='object')"
      ]
     },
     "execution_count": 10,
     "metadata": {},
     "output_type": "execute_result"
    }
   ],
   "source": [
    "fint_trees_db.columns"
   ]
  },
  {
   "cell_type": "raw",
   "metadata": {},
   "source": []
  },
  {
   "cell_type": "code",
   "execution_count": 11,
   "metadata": {},
   "outputs": [],
   "source": [
    "#Clean anomalous terrain values for aspect in flat places (aspect==-9999)\n",
    "fint_trees_db[\"aspect_cos\"] = fint_trees_db.apply(lambda x: 1 if x[\"aspect\"]==-9999 else x[\"aspect_cos\"] ,axis=1)\n",
    "fint_trees_db[\"aspect_sin\"] = fint_trees_db.apply(lambda x: 0 if x[\"aspect\"]==-9999 else x[\"aspect_sin\"] ,axis=1)\n",
    "fint_trees_db[\"northness\"] = fint_trees_db.apply(lambda x: x[\"aspect_cos\"]*x[\"slope_sin\"] if x[\"aspect\"]==-9999 else x[\"northness\"] ,axis=1)\n",
    "fint_trees_db[\"eastness\"] = fint_trees_db.apply(lambda x: x[\"aspect_sin\"]*x[\"slope_sin\"] if x[\"aspect\"]==-9999 else x[\"eastness\"] ,axis=1)\n",
    "fint_trees_db[\"aspect\"] = fint_trees_db.apply(lambda x: 0 if x[\"aspect\"]==-9999 else x[\"aspect\"] ,axis=1)\n"
   ]
  },
  {
   "cell_type": "code",
   "execution_count": 12,
   "metadata": {},
   "outputs": [],
   "source": [
    "fint_trees = fint_trees_db"
   ]
  },
  {
   "cell_type": "code",
   "execution_count": 13,
   "metadata": {},
   "outputs": [],
   "source": [
    "#Add \"source_label\" to FINT-CH trees\n",
    "fint_trees = fint_trees.merge(source_label_df, left_on=[\"source_id\"], right_on=[\"source_id\"],how=\"left\")"
   ]
  },
  {
   "cell_type": "code",
   "execution_count": 14,
   "metadata": {},
   "outputs": [],
   "source": [
    "#Calculate values per ha and set placeholders for empty detections\n",
    "#99999999 is used, if atual method of detection and column don't match --> need to aggregate with MIN and to correctly treat value later\n",
    "for i in range(1,20,1):\n",
    "    idx = str(i)\n",
    "    fint_trees[\"stems_per_ha_ps\"+idx] = fint_trees.apply(lambda x: (x[\"stems_in_plot_ps\"+idx]/(x[\"plot_area\"]/10000)) , axis=1)\n",
    "    fint_trees[\"bas_per_ha_ps\"+idx] = fint_trees.apply(lambda x: (x[\"bas_detected_ps\"+idx]/(x[\"plot_area\"]/10000)) , axis=1)\n",
    "    "
   ]
  },
  {
   "cell_type": "code",
   "execution_count": 15,
   "metadata": {},
   "outputs": [
    {
     "data": {
      "text/plain": [
       "Index(['OBJECTID', 'plot_id', 'x_lv95', 'y_lv95', 'waldrand',\n",
       "       'bestandesgrenze', 'nbr_trees', 'nbr_trees_os', 'bas', 'year',\n",
       "       'density_actual', 'density_actual_all', 'bas_per_ha',\n",
       "       'density_actual_LFI', 'nbr_trees_LFI', 'source_id', 'geometry',\n",
       "       'index_right', 'KANTONSNUM', 'VHM_Year_Min', 'VHM_Year_Max',\n",
       "       'file_name_als', 'VHM_Tile_Year'],\n",
       "      dtype='object')"
      ]
     },
     "execution_count": 15,
     "metadata": {},
     "output_type": "execute_result"
    }
   ],
   "source": [
    "plot_ref_df.columns"
   ]
  },
  {
   "cell_type": "code",
   "execution_count": 16,
   "metadata": {},
   "outputs": [
    {
     "data": {
      "text/plain": [
       "Index(['perimeter_id', 'flaeche_id', 'stems_in_plot_ps1', 'stems_in_plot_ps2',\n",
       "       'stems_in_plot_ps3', 'stems_in_plot_ps4', 'stems_in_plot_ps5',\n",
       "       'stems_in_plot_ps6', 'stems_in_plot_ps7', 'stems_in_plot_ps8',\n",
       "       ...\n",
       "       'stems_per_ha_ps15', 'bas_per_ha_ps15', 'stems_per_ha_ps16',\n",
       "       'bas_per_ha_ps16', 'stems_per_ha_ps17', 'bas_per_ha_ps17',\n",
       "       'stems_per_ha_ps18', 'bas_per_ha_ps18', 'stems_per_ha_ps19',\n",
       "       'bas_per_ha_ps19'],\n",
       "      dtype='object', length=115)"
      ]
     },
     "execution_count": 16,
     "metadata": {},
     "output_type": "execute_result"
    }
   ],
   "source": [
    "fint_trees.columns"
   ]
  },
  {
   "cell_type": "code",
   "execution_count": 17,
   "metadata": {},
   "outputs": [],
   "source": [
    "#Derive codes for expert determined forest structure type from original project\n",
    "fint_trees[\"fst_nh\"] = fint_trees[\"fst\"]//100\n",
    "fint_trees[\"fst_dg\"] = (fint_trees[\"fst\"]//10)%10\n",
    "fint_trees[\"fst_hdom\"] = fint_trees[\"fst\"]%10"
   ]
  },
  {
   "cell_type": "code",
   "execution_count": 18,
   "metadata": {},
   "outputs": [],
   "source": [
    "def set_ps_list(x,source_column=\"stems_per_ha\",index_column=\"parameterset_id\"):\n",
    "    vect = [99999999]*19\n",
    "    vect[x[index_column]-1]=x[source_column]\n",
    "    return vect"
   ]
  },
  {
   "cell_type": "code",
   "execution_count": 19,
   "metadata": {},
   "outputs": [],
   "source": [
    "#Aggregate values per plot and parameterset\n",
    "fint_trees_grouped = fint_trees #Grouping is now done in Query"
   ]
  },
  {
   "cell_type": "code",
   "execution_count": 20,
   "metadata": {},
   "outputs": [],
   "source": [
    "#Add plot reference data\n",
    "#fint_trees_grouped = fint_trees_grouped.merge(plot_ref_df, left_on=[\"perimeter_id\"], right_on=[\"OBJECTID\"],how=\"left\",suffixes=[\"\",\"_ref\"])\n",
    "fint_trees_grouped = fint_trees_grouped.merge(plot_ref_df, left_on=[\"flaeche_id\",\"source_id\"], right_on=[\"plot_id\",\"source_id\"],how=\"left\",suffixes=[\"\",\"_ref\"])"
   ]
  },
  {
   "cell_type": "code",
   "execution_count": 21,
   "metadata": {},
   "outputs": [],
   "source": [
    "fint_trees_grouped = fint_trees_grouped[np.invert(np.isnan(fint_trees_grouped[\"density_actual\"]))]"
   ]
  },
  {
   "cell_type": "code",
   "execution_count": 22,
   "metadata": {},
   "outputs": [
    {
     "data": {
      "text/plain": [
       "Index(['perimeter_id', 'flaeche_id', 'stems_in_plot_ps1', 'stems_in_plot_ps2',\n",
       "       'stems_in_plot_ps3', 'stems_in_plot_ps4', 'stems_in_plot_ps5',\n",
       "       'stems_in_plot_ps6', 'stems_in_plot_ps7', 'stems_in_plot_ps8',\n",
       "       ...\n",
       "       'bas_per_ha', 'density_actual_LFI', 'nbr_trees_LFI', 'geometry',\n",
       "       'index_right', 'KANTONSNUM', 'VHM_Year_Min', 'VHM_Year_Max',\n",
       "       'file_name_als', 'VHM_Tile_Year'],\n",
       "      dtype='object', length=140)"
      ]
     },
     "execution_count": 22,
     "metadata": {},
     "output_type": "execute_result"
    }
   ],
   "source": [
    "fint_trees_grouped.columns"
   ]
  },
  {
   "cell_type": "code",
   "execution_count": 23,
   "metadata": {},
   "outputs": [],
   "source": [
    "fint_trees_grouped.rename(columns={\"bas\":\"bas_ref\", \"bas_per_ha\":\"bas_per_ha_ref\"}, inplace=True)"
   ]
  },
  {
   "cell_type": "code",
   "execution_count": 24,
   "metadata": {},
   "outputs": [],
   "source": [
    "#Removing columns that are unneeded or not aggregated properly (e.g. individual tree specific)\n",
    "# fint_trees_grouped.drop(columns=[\"IsMittelschicht\",\"IsOberschicht\",\"IsUnterschicht\",\"bas\",\"bas_per_ha\",\"bas_sum\",\"bhd\",\"dominanz\",\"gid\",\n",
    "#                  \"hoehe\",\"prtid\",\"stems_in_plot\",\"stems_per_ha\",\"x\",\"y\",\"OBJECTID\",\"geometry\",\n",
    "#                 \"stems_in_plot_ms\",\"stems_in_plot_os\",\"stems_in_plot_us\",\"stems_ms_per_ha\",\"stems_os_per_ha\",\"stems_us_per_ha\",\n",
    "#                 \"parameterset_id\",\"parameterset_label\",\"plot_id\",\n",
    "#                                 ],inplace=True)\n",
    "\n",
    "\n",
    "fint_trees_grouped.drop(columns=[\"OBJECTID\",\n",
    "\"plot_id\",\n",
    "\"prtid\",\n",
    "\"geom\",\n",
    "\"geometry\",\n",
    "                                ],inplace=True)\n",
    "\n",
    "\n"
   ]
  },
  {
   "cell_type": "markdown",
   "metadata": {},
   "source": [
    "Determining the detection variant with the smallest squered difference between detected and actual value. If there are two methods with the same minimal value, the method with simpler processing (resize over gauss, gauss over combination) are prioritised. For the gauss filtering, the sigma 2 variants are prioritized"
   ]
  },
  {
   "cell_type": "code",
   "execution_count": 25,
   "metadata": {},
   "outputs": [],
   "source": [
    "#Calculate squared difference based on actual density with all trees\n",
    "for i in range(1,20,1):\n",
    "    idx = str(i)\n",
    "    fint_trees_grouped[\"stems_per_ha_rs_all_ps\"+idx] = fint_trees_grouped.apply(lambda x: (x[\"stems_per_ha_ps\"+idx]-x[\"density_actual_all\"] if x[\"stems_per_ha_ps\"+idx]!=99999999 else x[\"density_actual_all\"] )**2 , axis=1)\n",
    "\n"
   ]
  },
  {
   "cell_type": "code",
   "execution_count": 26,
   "metadata": {},
   "outputs": [],
   "source": [
    "def determine_min_class_flex(x, input_prefix=\"stems_per_ha_rs_\", input_classes=[1,2,3,7,8,9,4,5,6,10,11,12,13,14,15,16,17,18,19]):\n",
    "    input_columns = [input_prefix+\"ps\"+str(i) for i in input_classes]\n",
    "    min_val = x[input_columns].min()\n",
    "    for i in input_classes:\n",
    "        if x[input_prefix+\"ps\"+str(i)] == min_val:\n",
    "            return pd.Series([int(i),min_val],index=[\"parameterset_min\",\"rmse_min\"])\n",
    "    \n",
    "#Determine method with minimal squared difference\n",
    "#lfi_trees_grouped[\"parameterset_min_reduced\"] = lfi_trees_grouped.apply(determine_min_class_redux, input_prefix=\"stems_per_ha_rs_\", axis=1)    \n"
   ]
  },
  {
   "cell_type": "code",
   "execution_count": 27,
   "metadata": {},
   "outputs": [
    {
     "data": {
      "text/plain": [
       "Index(['OBJECTID', 'plot_id', 'x_lv95', 'y_lv95', 'waldrand',\n",
       "       'bestandesgrenze', 'nbr_trees', 'nbr_trees_os', 'bas', 'year',\n",
       "       'density_actual', 'density_actual_all', 'bas_per_ha',\n",
       "       'density_actual_LFI', 'nbr_trees_LFI', 'source_id', 'geometry',\n",
       "       'index_right', 'KANTONSNUM', 'VHM_Year_Min', 'VHM_Year_Max',\n",
       "       'file_name_als', 'VHM_Tile_Year'],\n",
       "      dtype='object')"
      ]
     },
     "execution_count": 27,
     "metadata": {},
     "output_type": "execute_result"
    }
   ],
   "source": [
    "plot_ref_df.columns"
   ]
  },
  {
   "cell_type": "code",
   "execution_count": 28,
   "metadata": {},
   "outputs": [],
   "source": [
    "#Determine method with minimal squared difference\n",
    "fint_trees_grouped[[\"parameterset_min_all\",\"rmse_min_all\"]] = fint_trees_grouped.apply(determine_min_class_flex, input_prefix=\"stems_per_ha_rs_all_\", axis=1)\n",
    "fint_trees_grouped[\"parameterset_min_all\"] = fint_trees_grouped[\"parameterset_min_all\"].astype(\"int32\")"
   ]
  },
  {
   "cell_type": "code",
   "execution_count": 29,
   "metadata": {},
   "outputs": [],
   "source": [
    "#Copy value from minimal method to separate column\n",
    "min_col = fint_trees_grouped[\"parameterset_min_all\"].apply(lambda x: \"stems_per_ha_rs_all_ps\"+str(x)) \n",
    "fint_trees_grouped[\"stems_per_ha_rs_min_all\"] =  [fint_trees_grouped.loc[idx, min_col.iloc[i]] for i, idx in enumerate(min_col.index.values)]"
   ]
  },
  {
   "cell_type": "code",
   "execution_count": 30,
   "metadata": {},
   "outputs": [],
   "source": [
    "#Calculate squared difference based on actual density with trees of the upper layer\n",
    "for i in range(1,20,1):\n",
    "    idx = str(i)\n",
    "    fint_trees_grouped[\"stems_per_ha_rs_ps\"+idx] = fint_trees_grouped.apply(lambda x: (x[\"stems_per_ha_ps\"+idx]-x[\"density_actual\"] if x[\"stems_per_ha_ps\"+idx]!=99999999 else x[\"density_actual\"] )**2 , axis=1)\n"
   ]
  },
  {
   "cell_type": "code",
   "execution_count": 31,
   "metadata": {},
   "outputs": [],
   "source": [
    "#Determine method with minimal squared difference\n",
    "fint_trees_grouped[[\"parameterset_min\",\"rmse_min\"]] = fint_trees_grouped.apply(determine_min_class_flex, input_prefix=\"stems_per_ha_rs_\", axis=1)\n",
    "fint_trees_grouped[\"parameterset_min\"] = fint_trees_grouped[\"parameterset_min\"].astype(\"int32\")"
   ]
  },
  {
   "cell_type": "code",
   "execution_count": 32,
   "metadata": {},
   "outputs": [],
   "source": [
    "#Copy value from minimal method to separate column\n",
    "min_col = fint_trees_grouped[\"parameterset_min\"] .apply(lambda x: \"stems_per_ha_rs_ps\"+str(x)) \n",
    "fint_trees_grouped[\"stems_per_ha_rs_min\"] =  [fint_trees_grouped.loc[idx, min_col.iloc[i]] for i, idx in enumerate(min_col.index.values)]\n"
   ]
  },
  {
   "cell_type": "code",
   "execution_count": 33,
   "metadata": {},
   "outputs": [],
   "source": [
    "#Add label for min method\n",
    "fint_trees_grouped[\"parameterset_min_label\"] = fint_trees_grouped[\"parameterset_min\"].apply(lambda x: parameterset_lookup_label_dict[int(x)] )\n",
    "fint_trees_grouped[\"parameterset_min_all_label\"] = fint_trees_grouped[\"parameterset_min_all\"].apply(lambda x: parameterset_lookup_label_dict[int(x)] )"
   ]
  },
  {
   "cell_type": "code",
   "execution_count": 34,
   "metadata": {},
   "outputs": [],
   "source": [
    "csv_out_path = r\"C:\\school\\Diss\\FINT_CH\\Data\\detection_aggregated_all_radius.csv\"\n",
    "fint_trees_grouped.to_csv(csv_out_path, sep=\";\", header=True, quotechar='\"', index=False)\n"
   ]
  },
  {
   "cell_type": "code",
   "execution_count": 35,
   "metadata": {},
   "outputs": [
    {
     "name": "stdout",
     "output_type": "stream",
     "text": [
      "5913\n",
      "5913\n",
      "5913\n"
     ]
    }
   ],
   "source": [
    "#Determine circle size with lowest rmse\n",
    "fint_trees_grouped[\"rmse_min_global\"] = fint_trees_grouped.groupby([\"perimeter_id\", \"flaeche_id\"])[\"rmse_min\"].transform('min')\n",
    "fint_trees_grouped[\"is_min_radius\"] = fint_trees_grouped.apply(lambda x: x[\"radius\"] if x[\"rmse_min_global\"]==x[\"rmse_min\"] else -9999, axis=1)\n",
    "fint_trees_grouped[\"min_radius\"] = fint_trees_grouped.groupby([\"perimeter_id\", \"flaeche_id\"])[\"is_min_radius\"].transform('max')\n",
    "print(len(fint_trees_grouped))\n",
    "#Filter to retain only one record per plot\n",
    "fint_trees_grouped_level2 = fint_trees_grouped[fint_trees_grouped[\"radius\"]==fint_trees_grouped[\"min_radius\"]].reset_index(drop=True)\n",
    "print(len(fint_trees_grouped_level2))\n",
    "print(len(fint_trees_grouped_level2[\"perimeter_id\"].unique()))\n"
   ]
  },
  {
   "cell_type": "code",
   "execution_count": 36,
   "metadata": {},
   "outputs": [],
   "source": [
    "actual = \"density_actual\"\n",
    "actual_all = \"density_actual_all\"\n",
    "predicted = \"stems_per_ha_ps\"\n",
    "\n",
    "for i in range(1,20,1):\n",
    "    idx = str(i)\n",
    "    fint_trees_grouped[\"dr_ps\"+idx] = fint_trees_grouped.apply(lambda g: (g[predicted+idx]/g[actual] if g[actual]>0 else (1 if g[predicted+idx] == g[actual] else 0)) if g[predicted+idx]!=99999999 else 0 , axis=1)\n",
    "    fint_trees_grouped[\"dr_all_ps\"+idx] = fint_trees_grouped.apply(lambda g: (g[predicted+idx]/g[actual_all] if g[actual_all]>0 else (1 if g[predicted+idx] == g[actual_all] else 0)) if g[predicted+idx]!=99999999 else 0 , axis=1)\n"
   ]
  },
  {
   "cell_type": "code",
   "execution_count": 37,
   "metadata": {},
   "outputs": [],
   "source": [
    "#Add detection rates per method\n",
    "actual = \"density_actual\"\n",
    "actual_all = \"density_actual_all\"\n",
    "predicted = \"stems_per_ha_ps\"\n",
    "\n",
    "for i in range(1,20,1):\n",
    "    idx = str(i)\n",
    "    fint_trees_grouped_level2[\"dr_ps\"+idx] = fint_trees_grouped_level2.apply(lambda g: (g[predicted+idx]/g[actual] if g[actual]>0 else (1 if g[predicted+idx] == g[actual] else 0)) if g[predicted+idx]!=99999999 else 0 , axis=1)\n",
    "    fint_trees_grouped_level2[\"dr_all_ps\"+idx] = fint_trees_grouped_level2.apply(lambda g: (g[predicted+idx]/g[actual_all] if g[actual_all]>0 else (1 if g[predicted+idx] == g[actual_all] else 0)) if g[predicted+idx]!=99999999 else 0 , axis=1)\n"
   ]
  },
  {
   "cell_type": "code",
   "execution_count": 38,
   "metadata": {},
   "outputs": [],
   "source": [
    "#Reorder columns \n",
    "fint_trees_grouped_level2 = fint_trees_grouped_level2[[\n",
    "    \"perimeter_id\",\"flaeche_id\",\"source_id\",\"source_label\",\"radius\",\n",
    "\n",
    "\"slope\",\"slope_class\",\"slope_sin\",\"aspect\",\"aspect_class\",\"aspect_cos\",\"aspect_sin\",\"northness\",\"eastness\",\"z\",\"veg_code\",\"veg_de\",\"veg_subcode\",\"fst\",\"fst_dg\",\"fst_hdom\",\"fst_nh\",\"dg\",\"hdom\",\"nh\", \"hdom50\", \"dg50\", \"nh50\", \"fst50\", \"dg_ks\", \"dg_us\", \"dg_ms\", \"dg_os\", \"dg_ueb\", \"dg_ks50\", \"dg_us50\", \"dg_ms50\", \"dg_os50\", \"dg_ueb50\",\n",
    "\n",
    "\"x_lv95\",\"y_lv95\",\"waldrand\",\"bestandesgrenze\",\"nbr_trees\",\"bas_ref\",\"year\",\"density_actual\",\"density_actual_all\",\"bas_per_ha_ref\",\"KANTONSNUM\",\"VHM_Year_Min\",\"VHM_Year_Max\",\"VHM_Tile_Year\",\"plot_area\",\n",
    "\"stems_per_ha_ps1\",\"stems_per_ha_ps2\",\"stems_per_ha_ps3\",\"stems_per_ha_ps4\",\"stems_per_ha_ps5\",\"stems_per_ha_ps6\",\"stems_per_ha_ps7\",\"stems_per_ha_ps8\",\"stems_per_ha_ps9\",\"stems_per_ha_ps10\",\"stems_per_ha_ps11\",\"stems_per_ha_ps12\",\"stems_per_ha_ps13\",\"stems_per_ha_ps14\",\"stems_per_ha_ps15\",\"stems_per_ha_ps16\",\"stems_per_ha_ps17\",\"stems_per_ha_ps18\",\"stems_per_ha_ps19\",\n",
    "\"bas_per_ha_ps1\",\"bas_per_ha_ps2\",\"bas_per_ha_ps3\",\"bas_per_ha_ps4\",\"bas_per_ha_ps5\",\"bas_per_ha_ps6\",\"bas_per_ha_ps7\",\"bas_per_ha_ps8\",\"bas_per_ha_ps9\",\"bas_per_ha_ps10\",\"bas_per_ha_ps11\",\"bas_per_ha_ps12\",\"bas_per_ha_ps13\",\"bas_per_ha_ps14\",\"bas_per_ha_ps15\",\"bas_per_ha_ps16\",\"bas_per_ha_ps17\",\"bas_per_ha_ps18\",\"bas_per_ha_ps19\",\n",
    "\"dr_ps1\",\"dr_ps2\",\"dr_ps3\",\"dr_ps4\",\"dr_ps5\",\"dr_ps6\",\"dr_ps7\",\"dr_ps8\",\"dr_ps9\",\"dr_ps10\",\"dr_ps11\",\"dr_ps12\",\"dr_ps13\",\"dr_ps14\",\"dr_ps15\",\"dr_ps16\",\"dr_ps17\",\"dr_ps18\",\"dr_ps19\",\n",
    "\"dr_all_ps1\",\"dr_all_ps2\",\"dr_all_ps3\",\"dr_all_ps4\",\"dr_all_ps5\",\"dr_all_ps6\",\"dr_all_ps7\",\"dr_all_ps8\",\"dr_all_ps9\",\"dr_all_ps10\",\"dr_all_ps11\",\"dr_all_ps12\",\"dr_all_ps13\",\"dr_all_ps14\",\"dr_all_ps15\",\"dr_all_ps16\",\"dr_all_ps17\",\"dr_all_ps18\",\"dr_all_ps19\",   \n",
    "\"bas_detected_ps1\",\"bas_detected_ps2\",\"bas_detected_ps3\",\"bas_detected_ps4\",\"bas_detected_ps5\",\"bas_detected_ps6\",\"bas_detected_ps7\",\"bas_detected_ps8\",\"bas_detected_ps9\",\"bas_detected_ps10\",\"bas_detected_ps11\",\"bas_detected_ps12\",\"bas_detected_ps13\",\"bas_detected_ps14\",\"bas_detected_ps15\",\"bas_detected_ps16\",\"bas_detected_ps17\",\"bas_detected_ps18\",\"bas_detected_ps19\",\n",
    "\"stems_in_plot_ps1\",\"stems_in_plot_ps2\",\"stems_in_plot_ps3\",\"stems_in_plot_ps4\",\"stems_in_plot_ps5\",\"stems_in_plot_ps6\",\"stems_in_plot_ps7\",\"stems_in_plot_ps8\",\"stems_in_plot_ps9\",\"stems_in_plot_ps10\",\"stems_in_plot_ps11\",\"stems_in_plot_ps12\",\"stems_in_plot_ps13\",\"stems_in_plot_ps14\",\"stems_in_plot_ps15\",\"stems_in_plot_ps16\",\"stems_in_plot_ps17\",\"stems_in_plot_ps18\",\"stems_in_plot_ps19\",\n",
    "\"stems_per_ha_rs_all_ps1\",\"stems_per_ha_rs_all_ps2\",\"stems_per_ha_rs_all_ps3\",\"stems_per_ha_rs_all_ps4\",\"stems_per_ha_rs_all_ps5\",\"stems_per_ha_rs_all_ps6\",\"stems_per_ha_rs_all_ps7\",\"stems_per_ha_rs_all_ps8\",\"stems_per_ha_rs_all_ps9\",\"stems_per_ha_rs_all_ps10\",\"stems_per_ha_rs_all_ps11\",\"stems_per_ha_rs_all_ps12\",\"stems_per_ha_rs_all_ps13\",\"stems_per_ha_rs_all_ps14\",\"stems_per_ha_rs_all_ps15\",\"stems_per_ha_rs_all_ps16\",\"stems_per_ha_rs_all_ps17\",\"stems_per_ha_rs_all_ps18\",\"stems_per_ha_rs_all_ps19\",\n",
    "\"stems_per_ha_rs_ps1\",\"stems_per_ha_rs_ps2\",\"stems_per_ha_rs_ps3\",\"stems_per_ha_rs_ps4\",\"stems_per_ha_rs_ps5\",\"stems_per_ha_rs_ps6\",\"stems_per_ha_rs_ps7\",\"stems_per_ha_rs_ps8\",\"stems_per_ha_rs_ps9\",\"stems_per_ha_rs_ps10\",\"stems_per_ha_rs_ps11\",\"stems_per_ha_rs_ps12\",\"stems_per_ha_rs_ps13\",\"stems_per_ha_rs_ps14\",\"stems_per_ha_rs_ps15\",\"stems_per_ha_rs_ps16\",\"stems_per_ha_rs_ps17\",\"stems_per_ha_rs_ps18\",\"stems_per_ha_rs_ps19\",\n",
    "\"parameterset_min\",\"parameterset_min_label\",\n",
    "\"parameterset_min_all\",\"parameterset_min_all_label\",\n",
    "]].reset_index(drop=True)\n",
    "\n"
   ]
  },
  {
   "cell_type": "code",
   "execution_count": 39,
   "metadata": {},
   "outputs": [],
   "source": [
    "csv_out_path = r\"C:\\school\\Diss\\FINT_CH\\Data\\detection_aggregated.csv\"\n",
    "fint_trees_grouped_level2.to_csv(csv_out_path, sep=\";\", header=True, quotechar='\"', index=False)\n"
   ]
  },
  {
   "cell_type": "code",
   "execution_count": 40,
   "metadata": {},
   "outputs": [],
   "source": [
    "#Only select data from LFI\n",
    "lfi_trees_grouped = fint_trees_grouped_level2[fint_trees_grouped_level2[\"source_id\"]==1].reset_index(drop=True)\n",
    "\n",
    "csv_out_path = r\"C:\\school\\Diss\\FINT_CH\\Data\\detection_aggregated_lfi.csv\"\n",
    "lfi_trees_grouped.to_csv(csv_out_path, sep=\";\", header=True, quotechar='\"', index=False)\n"
   ]
  },
  {
   "cell_type": "code",
   "execution_count": 41,
   "metadata": {},
   "outputs": [
    {
     "name": "stdout",
     "output_type": "stream",
     "text": [
      "|  perimeter_id  |  int64  | | | | |\n",
      "|  flaeche_id  |  int64  | | | | |\n",
      "|  source_id  |  int64  | | | | |\n",
      "|  source_label  |  object  | | | | |\n",
      "|  radius  |  int64  | | | | |\n",
      "|  slope  |  float64  | | | | |\n",
      "|  slope_class  |  int64  | | | | |\n",
      "|  slope_sin  |  float64  | | | | |\n",
      "|  aspect  |  float64  | | | | |\n",
      "|  aspect_class  |  int64  | | | | |\n",
      "|  aspect_cos  |  float64  | | | | |\n",
      "|  aspect_sin  |  float64  | | | | |\n",
      "|  northness  |  float64  | | | | |\n",
      "|  eastness  |  float64  | | | | |\n",
      "|  z  |  float64  | | | | |\n",
      "|  veg_code  |  int64  | | | | |\n",
      "|  veg_de  |  object  | | | | |\n",
      "|  veg_subcode  |  int64  | | | | |\n",
      "|  fst  |  int64  | | | | |\n",
      "|  fst_dg  |  int64  | | | | |\n",
      "|  fst_hdom  |  int64  | | | | |\n",
      "|  fst_nh  |  int64  | | | | |\n",
      "|  dg  |  int64  | | | | |\n",
      "|  hdom  |  int64  | | | | |\n",
      "|  nh  |  int64  | | | | |\n",
      "|  hdom50  |  int64  | | | | |\n",
      "|  dg50  |  int64  | | | | |\n",
      "|  nh50  |  int64  | | | | |\n",
      "|  fst50  |  int64  | | | | |\n",
      "|  dg_ks  |  int64  | | | | |\n",
      "|  dg_us  |  int64  | | | | |\n",
      "|  dg_ms  |  int64  | | | | |\n",
      "|  dg_os  |  int64  | | | | |\n",
      "|  dg_ueb  |  int64  | | | | |\n",
      "|  dg_ks50  |  int64  | | | | |\n",
      "|  dg_us50  |  int64  | | | | |\n",
      "|  dg_ms50  |  int64  | | | | |\n",
      "|  dg_os50  |  int64  | | | | |\n",
      "|  dg_ueb50  |  int64  | | | | |\n",
      "|  x_lv95  |  float64  | | | | |\n",
      "|  y_lv95  |  float64  | | | | |\n",
      "|  waldrand  |  int64  | | | | |\n",
      "|  bestandesgrenze  |  int64  | | | | |\n",
      "|  nbr_trees  |  float64  | | | | |\n",
      "|  bas_ref  |  float64  | | | | |\n",
      "|  year  |  float64  | | | | |\n",
      "|  density_actual  |  float64  | | | | |\n",
      "|  density_actual_all  |  float64  | | | | |\n",
      "|  bas_per_ha_ref  |  float64  | | | | |\n",
      "|  KANTONSNUM  |  float64  | | | | |\n",
      "|  VHM_Year_Min  |  int64  | | | | |\n",
      "|  VHM_Year_Max  |  int64  | | | | |\n",
      "|  VHM_Tile_Year  |  int64  | | | | |\n",
      "|  plot_area  |  float64  | | | | |\n",
      "|  stems_per_ha_ps1  |  float64  | | | | |\n",
      "|  stems_per_ha_ps2  |  float64  | | | | |\n",
      "|  stems_per_ha_ps3  |  float64  | | | | |\n",
      "|  stems_per_ha_ps4  |  float64  | | | | |\n",
      "|  stems_per_ha_ps5  |  float64  | | | | |\n",
      "|  stems_per_ha_ps6  |  float64  | | | | |\n",
      "|  stems_per_ha_ps7  |  float64  | | | | |\n",
      "|  stems_per_ha_ps8  |  float64  | | | | |\n",
      "|  stems_per_ha_ps9  |  float64  | | | | |\n",
      "|  stems_per_ha_ps10  |  float64  | | | | |\n",
      "|  stems_per_ha_ps11  |  float64  | | | | |\n",
      "|  stems_per_ha_ps12  |  float64  | | | | |\n",
      "|  stems_per_ha_ps13  |  float64  | | | | |\n",
      "|  stems_per_ha_ps14  |  float64  | | | | |\n",
      "|  stems_per_ha_ps15  |  float64  | | | | |\n",
      "|  stems_per_ha_ps16  |  float64  | | | | |\n",
      "|  stems_per_ha_ps17  |  float64  | | | | |\n",
      "|  stems_per_ha_ps18  |  float64  | | | | |\n",
      "|  stems_per_ha_ps19  |  float64  | | | | |\n",
      "|  bas_per_ha_ps1  |  float64  | | | | |\n",
      "|  bas_per_ha_ps2  |  float64  | | | | |\n",
      "|  bas_per_ha_ps3  |  float64  | | | | |\n",
      "|  bas_per_ha_ps4  |  float64  | | | | |\n",
      "|  bas_per_ha_ps5  |  float64  | | | | |\n",
      "|  bas_per_ha_ps6  |  float64  | | | | |\n",
      "|  bas_per_ha_ps7  |  float64  | | | | |\n",
      "|  bas_per_ha_ps8  |  float64  | | | | |\n",
      "|  bas_per_ha_ps9  |  float64  | | | | |\n",
      "|  bas_per_ha_ps10  |  float64  | | | | |\n",
      "|  bas_per_ha_ps11  |  float64  | | | | |\n",
      "|  bas_per_ha_ps12  |  float64  | | | | |\n",
      "|  bas_per_ha_ps13  |  float64  | | | | |\n",
      "|  bas_per_ha_ps14  |  float64  | | | | |\n",
      "|  bas_per_ha_ps15  |  float64  | | | | |\n",
      "|  bas_per_ha_ps16  |  float64  | | | | |\n",
      "|  bas_per_ha_ps17  |  float64  | | | | |\n",
      "|  bas_per_ha_ps18  |  float64  | | | | |\n",
      "|  bas_per_ha_ps19  |  float64  | | | | |\n",
      "|  dr_ps1  |  float64  | | | | |\n",
      "|  dr_ps2  |  float64  | | | | |\n",
      "|  dr_ps3  |  float64  | | | | |\n",
      "|  dr_ps4  |  float64  | | | | |\n",
      "|  dr_ps5  |  float64  | | | | |\n",
      "|  dr_ps6  |  float64  | | | | |\n",
      "|  dr_ps7  |  float64  | | | | |\n",
      "|  dr_ps8  |  float64  | | | | |\n",
      "|  dr_ps9  |  float64  | | | | |\n",
      "|  dr_ps10  |  float64  | | | | |\n",
      "|  dr_ps11  |  float64  | | | | |\n",
      "|  dr_ps12  |  float64  | | | | |\n",
      "|  dr_ps13  |  float64  | | | | |\n",
      "|  dr_ps14  |  float64  | | | | |\n",
      "|  dr_ps15  |  float64  | | | | |\n",
      "|  dr_ps16  |  float64  | | | | |\n",
      "|  dr_ps17  |  float64  | | | | |\n",
      "|  dr_ps18  |  float64  | | | | |\n",
      "|  dr_ps19  |  float64  | | | | |\n",
      "|  dr_all_ps1  |  float64  | | | | |\n",
      "|  dr_all_ps2  |  float64  | | | | |\n",
      "|  dr_all_ps3  |  float64  | | | | |\n",
      "|  dr_all_ps4  |  float64  | | | | |\n",
      "|  dr_all_ps5  |  float64  | | | | |\n",
      "|  dr_all_ps6  |  float64  | | | | |\n",
      "|  dr_all_ps7  |  float64  | | | | |\n",
      "|  dr_all_ps8  |  float64  | | | | |\n",
      "|  dr_all_ps9  |  float64  | | | | |\n",
      "|  dr_all_ps10  |  float64  | | | | |\n",
      "|  dr_all_ps11  |  float64  | | | | |\n",
      "|  dr_all_ps12  |  float64  | | | | |\n",
      "|  dr_all_ps13  |  float64  | | | | |\n",
      "|  dr_all_ps14  |  float64  | | | | |\n",
      "|  dr_all_ps15  |  float64  | | | | |\n",
      "|  dr_all_ps16  |  float64  | | | | |\n",
      "|  dr_all_ps17  |  float64  | | | | |\n",
      "|  dr_all_ps18  |  float64  | | | | |\n",
      "|  dr_all_ps19  |  float64  | | | | |\n",
      "|  bas_detected_ps1  |  float64  | | | | |\n",
      "|  bas_detected_ps2  |  float64  | | | | |\n",
      "|  bas_detected_ps3  |  float64  | | | | |\n",
      "|  bas_detected_ps4  |  float64  | | | | |\n",
      "|  bas_detected_ps5  |  float64  | | | | |\n",
      "|  bas_detected_ps6  |  float64  | | | | |\n",
      "|  bas_detected_ps7  |  float64  | | | | |\n",
      "|  bas_detected_ps8  |  float64  | | | | |\n",
      "|  bas_detected_ps9  |  float64  | | | | |\n",
      "|  bas_detected_ps10  |  float64  | | | | |\n",
      "|  bas_detected_ps11  |  float64  | | | | |\n",
      "|  bas_detected_ps12  |  float64  | | | | |\n",
      "|  bas_detected_ps13  |  float64  | | | | |\n",
      "|  bas_detected_ps14  |  float64  | | | | |\n",
      "|  bas_detected_ps15  |  float64  | | | | |\n",
      "|  bas_detected_ps16  |  float64  | | | | |\n",
      "|  bas_detected_ps17  |  float64  | | | | |\n",
      "|  bas_detected_ps18  |  float64  | | | | |\n",
      "|  bas_detected_ps19  |  float64  | | | | |\n",
      "|  stems_in_plot_ps1  |  int64  | | | | |\n",
      "|  stems_in_plot_ps2  |  int64  | | | | |\n",
      "|  stems_in_plot_ps3  |  int64  | | | | |\n",
      "|  stems_in_plot_ps4  |  int64  | | | | |\n",
      "|  stems_in_plot_ps5  |  int64  | | | | |\n",
      "|  stems_in_plot_ps6  |  int64  | | | | |\n",
      "|  stems_in_plot_ps7  |  int64  | | | | |\n",
      "|  stems_in_plot_ps8  |  int64  | | | | |\n",
      "|  stems_in_plot_ps9  |  int64  | | | | |\n",
      "|  stems_in_plot_ps10  |  int64  | | | | |\n",
      "|  stems_in_plot_ps11  |  int64  | | | | |\n",
      "|  stems_in_plot_ps12  |  int64  | | | | |\n",
      "|  stems_in_plot_ps13  |  int64  | | | | |\n",
      "|  stems_in_plot_ps14  |  int64  | | | | |\n",
      "|  stems_in_plot_ps15  |  int64  | | | | |\n",
      "|  stems_in_plot_ps16  |  int64  | | | | |\n",
      "|  stems_in_plot_ps17  |  int64  | | | | |\n",
      "|  stems_in_plot_ps18  |  int64  | | | | |\n",
      "|  stems_in_plot_ps19  |  int64  | | | | |\n",
      "|  stems_per_ha_rs_all_ps1  |  float64  | | | | |\n",
      "|  stems_per_ha_rs_all_ps2  |  float64  | | | | |\n",
      "|  stems_per_ha_rs_all_ps3  |  float64  | | | | |\n",
      "|  stems_per_ha_rs_all_ps4  |  float64  | | | | |\n",
      "|  stems_per_ha_rs_all_ps5  |  float64  | | | | |\n",
      "|  stems_per_ha_rs_all_ps6  |  float64  | | | | |\n",
      "|  stems_per_ha_rs_all_ps7  |  float64  | | | | |\n",
      "|  stems_per_ha_rs_all_ps8  |  float64  | | | | |\n",
      "|  stems_per_ha_rs_all_ps9  |  float64  | | | | |\n",
      "|  stems_per_ha_rs_all_ps10  |  float64  | | | | |\n",
      "|  stems_per_ha_rs_all_ps11  |  float64  | | | | |\n",
      "|  stems_per_ha_rs_all_ps12  |  float64  | | | | |\n",
      "|  stems_per_ha_rs_all_ps13  |  float64  | | | | |\n",
      "|  stems_per_ha_rs_all_ps14  |  float64  | | | | |\n",
      "|  stems_per_ha_rs_all_ps15  |  float64  | | | | |\n",
      "|  stems_per_ha_rs_all_ps16  |  float64  | | | | |\n",
      "|  stems_per_ha_rs_all_ps17  |  float64  | | | | |\n",
      "|  stems_per_ha_rs_all_ps18  |  float64  | | | | |\n",
      "|  stems_per_ha_rs_all_ps19  |  float64  | | | | |\n",
      "|  stems_per_ha_rs_ps1  |  float64  | | | | |\n",
      "|  stems_per_ha_rs_ps2  |  float64  | | | | |\n",
      "|  stems_per_ha_rs_ps3  |  float64  | | | | |\n",
      "|  stems_per_ha_rs_ps4  |  float64  | | | | |\n",
      "|  stems_per_ha_rs_ps5  |  float64  | | | | |\n",
      "|  stems_per_ha_rs_ps6  |  float64  | | | | |\n",
      "|  stems_per_ha_rs_ps7  |  float64  | | | | |\n",
      "|  stems_per_ha_rs_ps8  |  float64  | | | | |\n",
      "|  stems_per_ha_rs_ps9  |  float64  | | | | |\n",
      "|  stems_per_ha_rs_ps10  |  float64  | | | | |\n",
      "|  stems_per_ha_rs_ps11  |  float64  | | | | |\n",
      "|  stems_per_ha_rs_ps12  |  float64  | | | | |\n",
      "|  stems_per_ha_rs_ps13  |  float64  | | | | |\n",
      "|  stems_per_ha_rs_ps14  |  float64  | | | | |\n",
      "|  stems_per_ha_rs_ps15  |  float64  | | | | |\n",
      "|  stems_per_ha_rs_ps16  |  float64  | | | | |\n",
      "|  stems_per_ha_rs_ps17  |  float64  | | | | |\n",
      "|  stems_per_ha_rs_ps18  |  float64  | | | | |\n",
      "|  stems_per_ha_rs_ps19  |  float64  | | | | |\n",
      "|  parameterset_min  |  int32  | | | | |\n",
      "|  parameterset_min_label  |  object  | | | | |\n",
      "|  parameterset_min_all  |  int32  | | | | |\n",
      "|  parameterset_min_all_label  |  object  | | | | |\n",
      "\"perimeter_id\", \"flaeche_id\", \"source_id\", \"source_label\", \"radius\", \"slope\", \"slope_class\", \"slope_sin\", \"aspect\", \"aspect_class\", \"aspect_cos\", \"aspect_sin\", \"northness\", \"eastness\", \"z\", \"veg_code\", \"veg_de\", \"veg_subcode\", \"fst\", \"fst_dg\", \"fst_hdom\", \"fst_nh\", \"dg\", \"hdom\", \"nh\", \"hdom50\", \"dg50\", \"nh50\", \"fst50\", \"dg_ks\", \"dg_us\", \"dg_ms\", \"dg_os\", \"dg_ueb\", \"dg_ks50\", \"dg_us50\", \"dg_ms50\", \"dg_os50\", \"dg_ueb50\", \"x_lv95\", \"y_lv95\", \"waldrand\", \"bestandesgrenze\", \"nbr_trees\", \"bas_ref\", \"year\", \"density_actual\", \"density_actual_all\", \"bas_per_ha_ref\", \"KANTONSNUM\", \"VHM_Year_Min\", \"VHM_Year_Max\", \"VHM_Tile_Year\", \"plot_area\", \"stems_per_ha_ps1\", \"stems_per_ha_ps2\", \"stems_per_ha_ps3\", \"stems_per_ha_ps4\", \"stems_per_ha_ps5\", \"stems_per_ha_ps6\", \"stems_per_ha_ps7\", \"stems_per_ha_ps8\", \"stems_per_ha_ps9\", \"stems_per_ha_ps10\", \"stems_per_ha_ps11\", \"stems_per_ha_ps12\", \"stems_per_ha_ps13\", \"stems_per_ha_ps14\", \"stems_per_ha_ps15\", \"stems_per_ha_ps16\", \"stems_per_ha_ps17\", \"stems_per_ha_ps18\", \"stems_per_ha_ps19\", \"bas_per_ha_ps1\", \"bas_per_ha_ps2\", \"bas_per_ha_ps3\", \"bas_per_ha_ps4\", \"bas_per_ha_ps5\", \"bas_per_ha_ps6\", \"bas_per_ha_ps7\", \"bas_per_ha_ps8\", \"bas_per_ha_ps9\", \"bas_per_ha_ps10\", \"bas_per_ha_ps11\", \"bas_per_ha_ps12\", \"bas_per_ha_ps13\", \"bas_per_ha_ps14\", \"bas_per_ha_ps15\", \"bas_per_ha_ps16\", \"bas_per_ha_ps17\", \"bas_per_ha_ps18\", \"bas_per_ha_ps19\", \"dr_ps1\", \"dr_ps2\", \"dr_ps3\", \"dr_ps4\", \"dr_ps5\", \"dr_ps6\", \"dr_ps7\", \"dr_ps8\", \"dr_ps9\", \"dr_ps10\", \"dr_ps11\", \"dr_ps12\", \"dr_ps13\", \"dr_ps14\", \"dr_ps15\", \"dr_ps16\", \"dr_ps17\", \"dr_ps18\", \"dr_ps19\", \"dr_all_ps1\", \"dr_all_ps2\", \"dr_all_ps3\", \"dr_all_ps4\", \"dr_all_ps5\", \"dr_all_ps6\", \"dr_all_ps7\", \"dr_all_ps8\", \"dr_all_ps9\", \"dr_all_ps10\", \"dr_all_ps11\", \"dr_all_ps12\", \"dr_all_ps13\", \"dr_all_ps14\", \"dr_all_ps15\", \"dr_all_ps16\", \"dr_all_ps17\", \"dr_all_ps18\", \"dr_all_ps19\", \"bas_detected_ps1\", \"bas_detected_ps2\", \"bas_detected_ps3\", \"bas_detected_ps4\", \"bas_detected_ps5\", \"bas_detected_ps6\", \"bas_detected_ps7\", \"bas_detected_ps8\", \"bas_detected_ps9\", \"bas_detected_ps10\", \"bas_detected_ps11\", \"bas_detected_ps12\", \"bas_detected_ps13\", \"bas_detected_ps14\", \"bas_detected_ps15\", \"bas_detected_ps16\", \"bas_detected_ps17\", \"bas_detected_ps18\", \"bas_detected_ps19\", \"stems_in_plot_ps1\", \"stems_in_plot_ps2\", \"stems_in_plot_ps3\", \"stems_in_plot_ps4\", \"stems_in_plot_ps5\", \"stems_in_plot_ps6\", \"stems_in_plot_ps7\", \"stems_in_plot_ps8\", \"stems_in_plot_ps9\", \"stems_in_plot_ps10\", \"stems_in_plot_ps11\", \"stems_in_plot_ps12\", \"stems_in_plot_ps13\", \"stems_in_plot_ps14\", \"stems_in_plot_ps15\", \"stems_in_plot_ps16\", \"stems_in_plot_ps17\", \"stems_in_plot_ps18\", \"stems_in_plot_ps19\", \"stems_per_ha_rs_all_ps1\", \"stems_per_ha_rs_all_ps2\", \"stems_per_ha_rs_all_ps3\", \"stems_per_ha_rs_all_ps4\", \"stems_per_ha_rs_all_ps5\", \"stems_per_ha_rs_all_ps6\", \"stems_per_ha_rs_all_ps7\", \"stems_per_ha_rs_all_ps8\", \"stems_per_ha_rs_all_ps9\", \"stems_per_ha_rs_all_ps10\", \"stems_per_ha_rs_all_ps11\", \"stems_per_ha_rs_all_ps12\", \"stems_per_ha_rs_all_ps13\", \"stems_per_ha_rs_all_ps14\", \"stems_per_ha_rs_all_ps15\", \"stems_per_ha_rs_all_ps16\", \"stems_per_ha_rs_all_ps17\", \"stems_per_ha_rs_all_ps18\", \"stems_per_ha_rs_all_ps19\", \"stems_per_ha_rs_ps1\", \"stems_per_ha_rs_ps2\", \"stems_per_ha_rs_ps3\", \"stems_per_ha_rs_ps4\", \"stems_per_ha_rs_ps5\", \"stems_per_ha_rs_ps6\", \"stems_per_ha_rs_ps7\", \"stems_per_ha_rs_ps8\", \"stems_per_ha_rs_ps9\", \"stems_per_ha_rs_ps10\", \"stems_per_ha_rs_ps11\", \"stems_per_ha_rs_ps12\", \"stems_per_ha_rs_ps13\", \"stems_per_ha_rs_ps14\", \"stems_per_ha_rs_ps15\", \"stems_per_ha_rs_ps16\", \"stems_per_ha_rs_ps17\", \"stems_per_ha_rs_ps18\", \"stems_per_ha_rs_ps19\", \"parameterset_min\", \"parameterset_min_label\", \"parameterset_min_all\", \"parameterset_min_all_label\", \n"
     ]
    }
   ],
   "source": [
    "#Output base structure for markdown documentation of columns (see Data_Analysis.ipynb)\n",
    "col_string = \"\"\n",
    "for c in lfi_trees_grouped.columns:\n",
    "    print(\"| \",c,\" | \", lfi_trees_grouped.dtypes[c],\" | | | | |\")\n",
    "    col_string+='\"'+c+'\", '\n",
    "print(col_string)"
   ]
  },
  {
   "cell_type": "code",
   "execution_count": null,
   "metadata": {},
   "outputs": [],
   "source": []
  }
 ],
 "metadata": {
  "kernelspec": {
   "display_name": "Python 3 (ipykernel)",
   "language": "python",
   "name": "python3"
  },
  "language_info": {
   "codemirror_mode": {
    "name": "ipython",
    "version": 3
   },
   "file_extension": ".py",
   "mimetype": "text/x-python",
   "name": "python",
   "nbconvert_exporter": "python",
   "pygments_lexer": "ipython3",
   "version": "3.9.7"
  }
 },
 "nbformat": 4,
 "nbformat_minor": 4
}
